{
 "cells": [
  {
   "cell_type": "markdown",
   "metadata": {},
   "source": [
    "# Question 4\n",
    "- Under package nps_chat, see what files are in it.\n",
    "- Find 'user121' and see how many posts he posted in all.\n",
    "- Find out how many unique user in each age range group. (20s, 30s,...)(Hint: files' name)"
   ]
  },
  {
   "cell_type": "code",
   "execution_count": 1,
   "metadata": {
    "collapsed": true
   },
   "outputs": [],
   "source": [
    "import nltk  #importing nltk"
   ]
  },
  {
   "cell_type": "code",
   "execution_count": 2,
   "metadata": {
    "collapsed": false
   },
   "outputs": [],
   "source": [
    "from nltk.corpus import nps_chat  #importing nps_chat from nltk corpus"
   ]
  },
  {
   "cell_type": "code",
   "execution_count": 3,
   "metadata": {
    "collapsed": false
   },
   "outputs": [
    {
     "data": {
      "text/plain": [
       "['10-19-20s_706posts.xml',\n",
       " '10-19-30s_705posts.xml',\n",
       " '10-19-40s_686posts.xml',\n",
       " '10-19-adults_706posts.xml',\n",
       " '10-24-40s_706posts.xml',\n",
       " '10-26-teens_706posts.xml',\n",
       " '11-06-adults_706posts.xml',\n",
       " '11-08-20s_705posts.xml',\n",
       " '11-08-40s_706posts.xml',\n",
       " '11-08-adults_705posts.xml',\n",
       " '11-08-teens_706posts.xml',\n",
       " '11-09-20s_706posts.xml',\n",
       " '11-09-40s_706posts.xml',\n",
       " '11-09-adults_706posts.xml',\n",
       " '11-09-teens_706posts.xml']"
      ]
     },
     "execution_count": 3,
     "metadata": {},
     "output_type": "execute_result"
    }
   ],
   "source": [
    "nps_chat.fileids() #files undernps_chat"
   ]
  },
  {
   "cell_type": "code",
   "execution_count": 4,
   "metadata": {
    "collapsed": false
   },
   "outputs": [
    {
     "data": {
      "text/plain": [
       "[<Element 'Post' at 0x10e3698b8>, <Element 'Post' at 0x10e37b778>, ...]"
      ]
     },
     "execution_count": 4,
     "metadata": {},
     "output_type": "execute_result"
    }
   ],
   "source": [
    "webchat=nps_chat.xml_posts()  #creating list of posts of all xml file\n",
    "webchat"
   ]
  },
  {
   "cell_type": "code",
   "execution_count": 5,
   "metadata": {
    "collapsed": false
   },
   "outputs": [
    {
     "data": {
      "text/plain": [
       "['10-19-20sUser7',\n",
       " '10-19-20sUser7',\n",
       " '10-19-20sUser76',\n",
       " '10-19-20sUser59',\n",
       " '10-19-20sUser115']"
      ]
     },
     "execution_count": 5,
     "metadata": {},
     "output_type": "execute_result"
    }
   ],
   "source": [
    "userList = []  #new and blank list is created\n",
    "for post in webchat:  #iterate over list, webchat\n",
    "    userList.append(post.attrib['user']) #append attribute start with 'user' of all post to the list, userList \n",
    "userList[0:5]"
   ]
  },
  {
   "cell_type": "code",
   "execution_count": 6,
   "metadata": {
    "collapsed": false
   },
   "outputs": [
    {
     "name": "stdout",
     "output_type": "stream",
     "text": [
      "Total number of posts, posted by User121: 132\n"
     ]
    }
   ],
   "source": [
    "user121 = []\n",
    "for user in userList: #iterate user ends with 121 over userlist and append to list user121\n",
    "     if user.endswith('121'): \n",
    "        user121.append(user)\n",
    "print('Total number of posts, posted by User121:', len(user121))"
   ]
  },
  {
   "cell_type": "code",
   "execution_count": 13,
   "metadata": {
    "collapsed": false
   },
   "outputs": [],
   "source": [
    "#new blank list created for all category of users\n",
    "user20s = []\n",
    "user30s = []\n",
    "user40s = []\n",
    "userAdults = []\n",
    "userTeens = []\n",
    "\n",
    "for ageGroup in webchat:\n",
    "    user = ageGroup.get('user')\n",
    "    if  user[6:9] =='20s':\n",
    "        user20s.append(user)\n",
    "    if  user[6:9] =='30s':\n",
    "        user30s.append(user)\n",
    "    if  user[6:9] =='40s':\n",
    "        user40s.append(user)\n",
    "    if  user[6:9] =='adu':\n",
    "        userAdults.append(user)\n",
    "    if  user[6:9] =='tee':\n",
    "        userTeens.append(user)\n",
    "user_20 = len(set(user20s))\n",
    "user_30 = len(set(user30s))\n",
    "user_40 = len(set(user40s))\n",
    "user_adult = len(set(userAdults))\n",
    "user_teen = len(set(userTeens))"
   ]
  },
  {
   "cell_type": "code",
   "execution_count": 16,
   "metadata": {
    "collapsed": false
   },
   "outputs": [
    {
     "name": "stdout",
     "output_type": "stream",
     "text": [
      "Number of unique user in each age range group\n",
      "\n",
      "\n",
      "Number users in 20s    : 305\n",
      "Number users in 30s    :  44\n",
      "Number users in 40s    : 228\n",
      "Number users in adults : 357\n",
      "Number users in teens  : 443\n"
     ]
    }
   ],
   "source": [
    "# Number of unique user in each age range group\n",
    "print(\"Number of unique user in each age range group:\")\n",
    "print('\\n')\n",
    "print(\"Number users in 20s    :{0:4}\".format(user_20))\n",
    "print(\"Number users in 30s    :{0:4}\".format(user_30))\n",
    "print(\"Number users in 40s    :{0:4}\".format(user_40))\n",
    "print(\"Number users in adults :{0:4}\".format(user_adult))\n",
    "print(\"Number users in teens  :{0:4}\".format(user_teen))"
   ]
  }
 ],
 "metadata": {
  "anaconda-cloud": {},
  "kernelspec": {
   "display_name": "Python [conda root]",
   "language": "python",
   "name": "conda-root-py"
  },
  "language_info": {
   "codemirror_mode": {
    "name": "ipython",
    "version": 3
   },
   "file_extension": ".py",
   "mimetype": "text/x-python",
   "name": "python",
   "nbconvert_exporter": "python",
   "pygments_lexer": "ipython3",
   "version": "3.5.2"
  }
 },
 "nbformat": 4,
 "nbformat_minor": 1
}
