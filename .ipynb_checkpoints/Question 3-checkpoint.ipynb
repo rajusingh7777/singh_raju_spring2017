{
 "cells": [
  {
   "cell_type": "markdown",
   "metadata": {},
   "source": [
    "# Question 3\n",
    "- Under package Webtext, see what files are in it.\n",
    "- Get content in file 'pirates.txt'.\n",
    "- According to the number of lines for Jack Sparrow and Will Turner, find out who is the real leading man in this movie."
   ]
  },
  {
   "cell_type": "code",
   "execution_count": 1,
   "metadata": {
    "collapsed": false
   },
   "outputs": [],
   "source": [
    "import nltk #importing nltk"
   ]
  },
  {
   "cell_type": "code",
   "execution_count": 2,
   "metadata": {
    "collapsed": false
   },
   "outputs": [],
   "source": [
    "from nltk.corpus import webtext #importing webtext from nltk corpus"
   ]
  },
  {
   "cell_type": "code",
   "execution_count": 3,
   "metadata": {
    "collapsed": false
   },
   "outputs": [
    {
     "data": {
      "text/plain": [
       "['firefox.txt',\n",
       " 'grail.txt',\n",
       " 'overheard.txt',\n",
       " 'pirates.txt',\n",
       " 'singles.txt',\n",
       " 'wine.txt']"
      ]
     },
     "execution_count": 3,
     "metadata": {},
     "output_type": "execute_result"
    }
   ],
   "source": [
    "webtext.fileids() # files under webtext"
   ]
  },
  {
   "cell_type": "code",
   "execution_count": 4,
   "metadata": {
    "collapsed": false
   },
   "outputs": [],
   "source": [
    "contentsOfFile=webtext.words('pirates.txt') #words of the file pirates.txt"
   ]
  },
  {
   "cell_type": "code",
   "execution_count": 5,
   "metadata": {
    "collapsed": false
   },
   "outputs": [],
   "source": [
    "from nltk import FreqDist #importing frequency distribution"
   ]
  },
  {
   "cell_type": "code",
   "execution_count": 7,
   "metadata": {
    "collapsed": false
   },
   "outputs": [
    {
     "name": "stdout",
     "output_type": "stream",
     "text": [
      "PIRATES OF THE CARRIBEAN: DEAD MAN'S CHEST, by Ted Elliott & Terry Rossio\n",
      "[view looking straight down at rolling swells, sound of wind and thunder, then a low heartbeat]\n",
      "Scene: PORT ROYAL\n",
      "[teacups on a table in the rain]\n",
      "[sheet music on music stands in the rain]\n",
      "[bouquet of white orchids, Elizabeth sitting in the rain holding the bouquet]\n",
      "[men rowing, men on horseback, to the sound of thunder]\n",
      "[EITC logo on flag blowing in the wind]\n",
      "[many rowboats are entering the harbor]\n",
      "[Elizabeth sitting alon\n"
     ]
    }
   ],
   "source": [
    "contentsOfFile1=webtext.raw('pirates.txt') \n",
    "print(contentsOfFile1[0:500])"
   ]
  },
  {
   "cell_type": "code",
   "execution_count": 8,
   "metadata": {
    "collapsed": false
   },
   "outputs": [
    {
     "name": "stdout",
     "output_type": "stream",
     "text": [
      "Number of Lines for JACK SPARROW: 193\n",
      "Number of Lines for WILL TURNER: 133\n",
      "\n",
      "\n",
      "Leading character of Pirates is: JACK SPARROW\n"
     ]
    }
   ],
   "source": [
    "tx = FreqDist(contentsOfFile) #find the frequency of each words appear in pirates.txt\n",
    "\n",
    "jack_line = tx['JACK'] #find frequency of Jack\n",
    "print(\"Number of Lines for JACK SPARROW:\", jack_line)\n",
    "will_line = tx['WILL'] #find frequency of Will\n",
    "print(\"Number of Lines for WILL TURNER:\", will_line)\n",
    "\n",
    "print(\"\\n\")\n",
    "\n",
    "if jack_line > will_line:\n",
    "    print(\"Leading character of Pirates is: JACK SPARROW\")\n",
    "else:\n",
    "    print(\"Leading character of Pirates is: WILL TURNER\")"
   ]
  }
 ],
 "metadata": {
  "anaconda-cloud": {},
  "kernelspec": {
   "display_name": "Python [conda root]",
   "language": "python",
   "name": "conda-root-py"
  },
  "language_info": {
   "codemirror_mode": {
    "name": "ipython",
    "version": 3
   },
   "file_extension": ".py",
   "mimetype": "text/x-python",
   "name": "python",
   "nbconvert_exporter": "python",
   "pygments_lexer": "ipython3",
   "version": "3.5.2"
  }
 },
 "nbformat": 4,
 "nbformat_minor": 1
}
