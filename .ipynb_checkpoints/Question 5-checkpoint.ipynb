{
 "cells": [
  {
   "cell_type": "markdown",
   "metadata": {},
   "source": [
    "# Question 5\n",
    "- Use Gutenberg and Web_text data. Find out what are the top 5 words that Shakespeare used but we do not use in currently.\n",
    "- Take top 50 words from Shakespeare (all 3 books) and top 50 from Web_text (all the records).\n",
    "- Remove punctuation and stop words.\n",
    "- Remove the words we still use today, and get the unused list. Show the top 5 elements. "
   ]
  },
  {
   "cell_type": "code",
   "execution_count": 2,
   "metadata": {
    "collapsed": true
   },
   "outputs": [],
   "source": [
    "import nltk #importing nltk"
   ]
  },
  {
   "cell_type": "code",
   "execution_count": 3,
   "metadata": {
    "collapsed": false
   },
   "outputs": [],
   "source": [
    "from nltk.corpus import stopwords #importing\n",
    "#stopwords.words('english')"
   ]
  },
  {
   "cell_type": "code",
   "execution_count": 4,
   "metadata": {
    "collapsed": true
   },
   "outputs": [],
   "source": [
    "from nltk.corpus import gutenberg #importing gutenerg from nltk corpus"
   ]
  },
  {
   "cell_type": "code",
   "execution_count": 5,
   "metadata": {
    "collapsed": false
   },
   "outputs": [
    {
     "data": {
      "text/plain": [
       "['austen-emma.txt',\n",
       " 'austen-persuasion.txt',\n",
       " 'austen-sense.txt',\n",
       " 'bible-kjv.txt',\n",
       " 'blake-poems.txt',\n",
       " 'bryant-stories.txt',\n",
       " 'burgess-busterbrown.txt',\n",
       " 'carroll-alice.txt',\n",
       " 'chesterton-ball.txt',\n",
       " 'chesterton-brown.txt',\n",
       " 'chesterton-thursday.txt',\n",
       " 'edgeworth-parents.txt',\n",
       " 'melville-moby_dick.txt',\n",
       " 'milton-paradise.txt',\n",
       " 'shakespeare-caesar.txt',\n",
       " 'shakespeare-hamlet.txt',\n",
       " 'shakespeare-macbeth.txt',\n",
       " 'whitman-leaves.txt']"
      ]
     },
     "execution_count": 5,
     "metadata": {},
     "output_type": "execute_result"
    }
   ],
   "source": [
    "guten_files=gutenberg.fileids() # listdown all files in gutenberg\n",
    "guten_files"
   ]
  },
  {
   "cell_type": "code",
   "execution_count": 6,
   "metadata": {
    "collapsed": false
   },
   "outputs": [],
   "source": [
    "shakespeare_wordlist = [] #a new blank list is created\n",
    "for file in guten_files:\n",
    "    if \"shakespeare\" in file: # file belongs to Shakespeare's filtered out.\n",
    "        word1= gutenberg.words(file)\n",
    "        shakespeare_wordlist.extend(word1)   # lower case done in order to remove stop words later down the code\n",
    "shakespeare_wordlist = [x.lower() for x in shakespeare_wordlist] #turn all contents in lower case\n",
    "#shakespeare_wordlist\n",
    "#len(shakespeare_wordlist)"
   ]
  },
  {
   "cell_type": "code",
   "execution_count": 7,
   "metadata": {
    "collapsed": false
   },
   "outputs": [],
   "source": [
    "Shake_filtered_stopwords = [word for word in shakespeare_wordlist if (word.lower()) not in stopwords.words('english')] # filter out stopwords\n",
    "#len(Shake_filtered_stopwords)"
   ]
  },
  {
   "cell_type": "code",
   "execution_count": 8,
   "metadata": {
    "collapsed": false
   },
   "outputs": [],
   "source": [
    "import re  #import reg expression\n",
    "nonPunct = re.compile('.*[A-Za-z].*')  # filter out punctutations and only contain letters\n",
    "shake_filtered_punct = [w for w in Shake_filtered_stopwords if nonPunct.match(w)]\n",
    "\n",
    "Shake_final_counts1={}  #new dict is created\n",
    "for b in shake_filtered_punct:\n",
    "    if b not in Shake_final_counts1: \n",
    "        Shake_final_counts1[b] = 1 # if word appears first time, it will add to the dictionary, Shake_final_counts1\n",
    "    else:\n",
    "        Shake_final_counts1[b] += 1 # if word reappears again it will add to the same dict, Shake_final_counts1  \n",
    "#Shake_final_counts1"
   ]
  },
  {
   "cell_type": "code",
   "execution_count": 9,
   "metadata": {
    "collapsed": false
   },
   "outputs": [],
   "source": [
    "from nltk import FreqDist #importing frequency distribution"
   ]
  },
  {
   "cell_type": "code",
   "execution_count": 10,
   "metadata": {
    "collapsed": false
   },
   "outputs": [],
   "source": [
    "shakespeare=FreqDist(Shake_final_counts1)"
   ]
  },
  {
   "cell_type": "code",
   "execution_count": 11,
   "metadata": {
    "collapsed": false
   },
   "outputs": [],
   "source": [
    "#shakespeare.most_common(5)"
   ]
  },
  {
   "cell_type": "code",
   "execution_count": 12,
   "metadata": {
    "collapsed": true
   },
   "outputs": [],
   "source": [
    "from nltk.corpus import webtext #importing webtext from nltk corpus"
   ]
  },
  {
   "cell_type": "code",
   "execution_count": 13,
   "metadata": {
    "collapsed": true
   },
   "outputs": [],
   "source": [
    "web_file = webtext.fileids()"
   ]
  },
  {
   "cell_type": "code",
   "execution_count": 14,
   "metadata": {
    "collapsed": false
   },
   "outputs": [],
   "source": [
    "webtext_wordlist = []\n",
    "for file1 in web_file:  \n",
    "        word1= webtext.words(file1)\n",
    "        webtext_wordlist.extend(word1)\n",
    "webtext_wordlist = [x.lower() for x in webtext_wordlist]\n",
    "#webtext_wordlist[:20]"
   ]
  },
  {
   "cell_type": "code",
   "execution_count": 15,
   "metadata": {
    "collapsed": false
   },
   "outputs": [],
   "source": [
    "web_filtered_stopwords = [word for word in webtext_wordlist if (word.lower()) not in stopwords.words('english')]\n",
    "#len(web_filtered_stopwords)"
   ]
  },
  {
   "cell_type": "code",
   "execution_count": 16,
   "metadata": {
    "collapsed": false
   },
   "outputs": [],
   "source": [
    "nonPunct1 = re.compile('.*[A-Za-z].*')  # filter out punctutations and only contain letters\n",
    "web_filtered_punct = [w for w in web_filtered_stopwords if nonPunct1.match(w)]\n",
    "\n",
    "web_final_counts1={} #new dict is created\n",
    "for a in web_filtered_punct: \n",
    "    if a not in web_final_counts1: \n",
    "        web_final_counts1[a] = 1 # if word appears first time, it will add to the dictionary, web_final_counts1\n",
    "    else:\n",
    "        web_final_counts1[a] += 1 # if word reappears again it will add to the same dict, Shake_final_counts1  \n",
    "#web_final_counts1"
   ]
  },
  {
   "cell_type": "code",
   "execution_count": 17,
   "metadata": {
    "collapsed": true
   },
   "outputs": [],
   "source": [
    "web=FreqDist(web_final_counts1)"
   ]
  },
  {
   "cell_type": "code",
   "execution_count": 18,
   "metadata": {
    "collapsed": false
   },
   "outputs": [],
   "source": [
    "#web.most_common(5)"
   ]
  },
  {
   "cell_type": "code",
   "execution_count": 19,
   "metadata": {
    "collapsed": false
   },
   "outputs": [],
   "source": [
    "shake_unusual_words={x:Shake_final_counts1[x] for x in Shake_final_counts1 if x not in web_final_counts1} #filter out shakespeare dict with webtext dict i.e remove all entries from former if found in webtext dict \n",
    "\n",
    "#shake_unusual_words"
   ]
  },
  {
   "cell_type": "code",
   "execution_count": 20,
   "metadata": {
    "collapsed": true
   },
   "outputs": [],
   "source": [
    "web11=FreqDist(shake_unusual_words)"
   ]
  },
  {
   "cell_type": "code",
   "execution_count": 21,
   "metadata": {
    "collapsed": false
   },
   "outputs": [],
   "source": [
    "ff= web11.most_common(5)"
   ]
  },
  {
   "cell_type": "code",
   "execution_count": 22,
   "metadata": {
    "collapsed": false
   },
   "outputs": [
    {
     "name": "stdout",
     "output_type": "stream",
     "text": [
      "Top 5 unusual words of Shakespears not in used today are:\n",
      "\n",
      "\n",
      "Word\tFrequency\n",
      "haue\t448\n",
      "brutus\t162\n",
      "vpon\t162\n",
      "bru\t153\n",
      "hath\t144\n"
     ]
    }
   ],
   "source": [
    "# Answers of 1st question:\n",
    "\n",
    "print(\"Top 5 unusual words of Shakespears not in used today are:\")\n",
    "print(\"\\n\")\n",
    "print(\"Word\\tFrequency\")\n",
    "\n",
    "for TopFivewords in ff[0:5]: # Call top five words  \n",
    "    print(\"{}\\t{}\".format(*TopFivewords))"
   ]
  },
  {
   "cell_type": "code",
   "execution_count": 23,
   "metadata": {
    "collapsed": false
   },
   "outputs": [
    {
     "name": "stdout",
     "output_type": "stream",
     "text": [
      "Top 50 words of Shakespears are:\n",
      "\n",
      "\n",
      "Word\t\tFrequency\n",
      "haue             448\n",
      "ham              337\n",
      "thou             312\n",
      "shall            300\n",
      "lord             293\n",
      "come             232\n",
      "king             231\n",
      "enter            230\n",
      "good             218\n",
      "let              217\n",
      "thy              202\n",
      "caesar           193\n",
      "vs               184\n",
      "know             176\n",
      "thee             174\n",
      "would            170\n",
      "brutus           162\n",
      "vpon             162\n",
      "like             162\n",
      "bru              153\n",
      "well             152\n",
      "hath             144\n",
      "selfe            143\n",
      "man              139\n",
      "may              138\n",
      "macb             137\n",
      "yet              136\n",
      "heere            135\n",
      "say              130\n",
      "must             130\n",
      "tis              129\n",
      "th               125\n",
      "make             119\n",
      "speake           119\n",
      "loue             119\n",
      "giue             118\n",
      "see              116\n",
      "time             115\n",
      "night            114\n",
      "sir              114\n",
      "one              112\n",
      "st               110\n",
      "cassi            107\n",
      "ile              106\n",
      "doe              103\n",
      "go               100\n",
      "hamlet           100\n",
      "men              96\n",
      "hor              95\n",
      "vp               94\n"
     ]
    }
   ],
   "source": [
    "# Answers of 2nd part1 question:\n",
    "\n",
    "print(\"Top 50 words of Shakespears are:\")\n",
    "print(\"\\n\")\n",
    "print(\"Word\\t\\tFrequency\")\n",
    "for TopFiftywords in shakespeare.most_common(50): # Call top five words  \n",
    "    print(\"{0:16} {1}\".format(*TopFiftywords))"
   ]
  },
  {
   "cell_type": "code",
   "execution_count": 24,
   "metadata": {
    "collapsed": false
   },
   "outputs": [
    {
     "name": "stdout",
     "output_type": "stream",
     "text": [
      "Top 50 words of webtext are:\n",
      "\n",
      "\n",
      "Word\t\tFrequency\n",
      "girl             2956\n",
      "guy              2751\n",
      "like             1696\n",
      "man              1075\n",
      "know             1025\n",
      "woman            998\n",
      "yeah             895\n",
      "page             887\n",
      "firefox          879\n",
      "get              869\n",
      "new              790\n",
      "chick            714\n",
      "one              700\n",
      "oh               682\n",
      "open             679\n",
      "window           670\n",
      "good             644\n",
      "bookmarks        598\n",
      "teen             587\n",
      "well             586\n",
      "firebird         583\n",
      "cell             577\n",
      "right            576\n",
      "go               564\n",
      "work             537\n",
      "bar              536\n",
      "menu             530\n",
      "tab              529\n",
      "lady             524\n",
      "toolbar          518\n",
      "boy              488\n",
      "want             485\n",
      "think            484\n",
      "browser          484\n",
      "jack             483\n",
      "bookmark         482\n",
      "old              475\n",
      "really           473\n",
      "going            460\n",
      "download         442\n",
      "url              440\n",
      "back             434\n",
      "time             432\n",
      "black            422\n",
      "manager          420\n",
      "little           419\n",
      "got              409\n",
      "crash            396\n",
      "would            392\n",
      "button           386\n"
     ]
    }
   ],
   "source": [
    "# Answers of 2nd part2 question:\n",
    "\n",
    "print(\"Top 50 words of webtext are:\")\n",
    "print(\"\\n\")\n",
    "print(\"Word\\t\\tFrequency\")\n",
    "for TopFiftywords in web.most_common(50): # Call top five words  \n",
    "    print(\"{0:16} {1}\".format(*TopFiftywords))"
   ]
  },
  {
   "cell_type": "code",
   "execution_count": null,
   "metadata": {
    "collapsed": true
   },
   "outputs": [],
   "source": []
  }
 ],
 "metadata": {
  "anaconda-cloud": {},
  "kernelspec": {
   "display_name": "Python [conda root]",
   "language": "python",
   "name": "conda-root-py"
  },
  "language_info": {
   "codemirror_mode": {
    "name": "ipython",
    "version": 3
   },
   "file_extension": ".py",
   "mimetype": "text/x-python",
   "name": "python",
   "nbconvert_exporter": "python",
   "pygments_lexer": "ipython3",
   "version": "3.5.2"
  }
 },
 "nbformat": 4,
 "nbformat_minor": 1
}
