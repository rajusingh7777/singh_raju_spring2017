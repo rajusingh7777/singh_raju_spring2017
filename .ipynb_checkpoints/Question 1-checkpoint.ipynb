{
 "cells": [
  {
   "cell_type": "markdown",
   "metadata": {},
   "source": [
    "# Question 1\n",
    "- Find out how many words and how many unique words in file 'austen-persuasion.txt'.\n",
    "- Calculate the frequency for each words and show the top 10 most frequent words and their frequency.\n",
    "- Keep the punctuation and stop words in this question."
   ]
  },
  {
   "cell_type": "code",
   "execution_count": 1,
   "metadata": {
    "collapsed": true
   },
   "outputs": [],
   "source": [
    "import nltk #importing nltk"
   ]
  },
  {
   "cell_type": "code",
   "execution_count": 2,
   "metadata": {
    "collapsed": false
   },
   "outputs": [],
   "source": [
    "from nltk.corpus import gutenberg #importing gutenerg from nltk corpus"
   ]
  },
  {
   "cell_type": "code",
   "execution_count": 3,
   "metadata": {
    "collapsed": false
   },
   "outputs": [
    {
     "data": {
      "text/plain": [
       "['austen-emma.txt',\n",
       " 'austen-persuasion.txt',\n",
       " 'austen-sense.txt',\n",
       " 'bible-kjv.txt',\n",
       " 'blake-poems.txt',\n",
       " 'bryant-stories.txt',\n",
       " 'burgess-busterbrown.txt',\n",
       " 'carroll-alice.txt',\n",
       " 'chesterton-ball.txt',\n",
       " 'chesterton-brown.txt',\n",
       " 'chesterton-thursday.txt',\n",
       " 'edgeworth-parents.txt',\n",
       " 'melville-moby_dick.txt',\n",
       " 'milton-paradise.txt',\n",
       " 'shakespeare-caesar.txt',\n",
       " 'shakespeare-hamlet.txt',\n",
       " 'shakespeare-macbeth.txt',\n",
       " 'whitman-leaves.txt']"
      ]
     },
     "execution_count": 3,
     "metadata": {},
     "output_type": "execute_result"
    }
   ],
   "source": [
    "gutenberg.fileids() # listdown all files in gutenberg"
   ]
  },
  {
   "cell_type": "code",
   "execution_count": 4,
   "metadata": {
    "collapsed": false
   },
   "outputs": [
    {
     "name": "stdout",
     "output_type": "stream",
     "text": [
      "Number of words in Austen-persuasion.txt are: 98171\n"
     ]
    }
   ],
   "source": [
    "numberOfWords = nltk.corpus.gutenberg.words('austen-persuasion.txt') # Total words exist in the called file \n",
    "print(\"Number of words in Austen-persuasion.txt are:\", str(len(numberOfWords))) # To find the number of words"
   ]
  },
  {
   "cell_type": "code",
   "execution_count": 7,
   "metadata": {
    "collapsed": false
   },
   "outputs": [
    {
     "name": "stdout",
     "output_type": "stream",
     "text": [
      "Unique words including punctuation are:\n",
      "['!', '!\"', \"!'\", '!--', '\"', '&', \"'\", \"'.\", '(', ')', '),', ').', ');', ',', ',\"', ',\"--', ',\"--\"', \",'\", ',)', ',)--', ',--', ',--`', '-', '--', '--!', '--\"', '--(', '---', '---.', '--;', '.', '.\"', \".'\", '.\\'\"', '.)', '.,', '.--', '.--,', '.--,\"', '1', '10', '11', '12', '13', '14', '15', '16', '17', '1760', '1784', '1785', '1787', '1789', '1791', '18', '1800', '1803', '1806', '1810', '1814', '1818', '19', '1st', '2', '20', '21', '22', '23', '24', '29th', '3', '4', '5', '6', '7', '8', '9', ':', ':\"', ':--', ':--\"', ';', ';\"', \";'\", ';)', ';--', ';--\"', '?', '?\"', \"?'\", '?\\'\"', '?)', '?),', 'A', 'About', 'Abydos', 'Accordingly', 'Admiral', 'Admiralty', 'After']"
     ]
    }
   ],
   "source": [
    "uniqueWords = set(numberOfWords) # It will set the vocabulary of the text, which must be unique.\n",
    "sortedUniqueWords = sorted(uniqueWords) # sorted the words\n",
    "print(\"Unique words including punctuation are:\")\n",
    "print(sortedUniqueWords[0:100], end=\"\") # prints all unique words exits in text files in sorted order."
   ]
  },
  {
   "cell_type": "code",
   "execution_count": 124,
   "metadata": {
    "collapsed": false
   },
   "outputs": [
    {
     "name": "stdout",
     "output_type": "stream",
     "text": [
      "Number of unique words in Austen-persuasion.txt are: 6132\n"
     ]
    }
   ],
   "source": [
    "NumberOfUniqueWords = len(sortedUniqueWords) # To get the length of list\n",
    "print(\"Number of unique words in Austen-persuasion.txt are:\",NumberOfUniqueWords)"
   ]
  },
  {
   "cell_type": "code",
   "execution_count": 126,
   "metadata": {
    "collapsed": false
   },
   "outputs": [
    {
     "name": "stdout",
     "output_type": "stream",
     "text": [
      "Top 10 words which are most frequently appeared in Austen-persuasion.txt are:\n",
      ",\t6750\n",
      "the\t3120\n",
      "to\t2775\n",
      ".\t2741\n",
      "and\t2739\n",
      "of\t2564\n",
      "a\t1529\n",
      "in\t1346\n",
      "was\t1330\n",
      ";\t1290\n"
     ]
    }
   ],
   "source": [
    "wordlist = {} # Blank dictionary is created\n",
    "for word in gutenberg.words('austen-persuasion.txt'): # iterate word in the list\n",
    "    if word not in wordlist: \n",
    "        wordlist[word] = 1 # if word appears first time, it will add to the dictionary, wordlist\n",
    "    else:\n",
    "        wordlist[word] += 1 # if word is already existed, it will increment the key value\n",
    "        \n",
    "import operator\n",
    "sorted_wordlist = sorted(wordlist.items(), key=operator.itemgetter(1), reverse=True) # Call representation of dictionary and sorted it by value \n",
    "\n",
    "print(\"Top 10 words which are most frequently appeared in Austen-persuasion.txt are:\")\n",
    "for TopTenwords in sorted_wordlist[0:10]: # Call top ten words and frequency \n",
    "    print(\"{}\\t{}\".format(*TopTenwords))"
   ]
  },
  {
   "cell_type": "code",
   "execution_count": null,
   "metadata": {
    "collapsed": true
   },
   "outputs": [],
   "source": []
  }
 ],
 "metadata": {
  "anaconda-cloud": {},
  "kernelspec": {
   "display_name": "Python [conda root]",
   "language": "python",
   "name": "conda-root-py"
  },
  "language_info": {
   "codemirror_mode": {
    "name": "ipython",
    "version": 3
   },
   "file_extension": ".py",
   "mimetype": "text/x-python",
   "name": "python",
   "nbconvert_exporter": "python",
   "pygments_lexer": "ipython3",
   "version": "3.5.2"
  }
 },
 "nbformat": 4,
 "nbformat_minor": 1
}
