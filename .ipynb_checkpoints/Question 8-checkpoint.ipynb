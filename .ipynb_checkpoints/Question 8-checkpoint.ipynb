{
 "cells": [
  {
   "cell_type": "markdown",
   "metadata": {},
   "source": [
    "# Question 8\n",
    "- Use nps_chat and wordlist corpus.\n",
    "- If you find a word in nps_chat but not in wordlist, it is considered an unusual word. (e.g. Heyyyy, gr8, 4ever can be considered unusual words for this analysis)\n",
    "- Find out how many unusual words people speak in chat (notice: usernames should not be counted)\n",
    "- Bonus: What if I want to  count : ) , : ( all these emoticons in. (optional)"
   ]
  },
  {
   "cell_type": "code",
   "execution_count": 1,
   "metadata": {
    "collapsed": true
   },
   "outputs": [],
   "source": [
    "import nltk #importing nltk"
   ]
  },
  {
   "cell_type": "code",
   "execution_count": 2,
   "metadata": {
    "collapsed": false
   },
   "outputs": [],
   "source": [
    "from nltk.corpus import stopwords #importing stopwords.words('english')"
   ]
  },
  {
   "cell_type": "code",
   "execution_count": 3,
   "metadata": {
    "collapsed": true
   },
   "outputs": [],
   "source": [
    "from nltk.corpus import nps_chat  #importing nps_chat from nltk corpus"
   ]
  },
  {
   "cell_type": "code",
   "execution_count": 9,
   "metadata": {
    "collapsed": false
   },
   "outputs": [
    {
     "data": {
      "text/plain": [
       "['10-19-20s_706posts.xml',\n",
       " '10-19-30s_705posts.xml',\n",
       " '10-19-40s_686posts.xml',\n",
       " '10-19-adults_706posts.xml',\n",
       " '10-24-40s_706posts.xml',\n",
       " '10-26-teens_706posts.xml',\n",
       " '11-06-adults_706posts.xml',\n",
       " '11-08-20s_705posts.xml',\n",
       " '11-08-40s_706posts.xml',\n",
       " '11-08-adults_705posts.xml',\n",
       " '11-08-teens_706posts.xml',\n",
       " '11-09-20s_706posts.xml',\n",
       " '11-09-40s_706posts.xml',\n",
       " '11-09-adults_706posts.xml',\n",
       " '11-09-teens_706posts.xml']"
      ]
     },
     "execution_count": 9,
     "metadata": {},
     "output_type": "execute_result"
    }
   ],
   "source": [
    "nps_file=nps_chat.fileids() # listdown all files in nps_chat\n",
    "nps_file"
   ]
  },
  {
   "cell_type": "code",
   "execution_count": 10,
   "metadata": {
    "collapsed": false
   },
   "outputs": [
    {
     "data": {
      "text/plain": [
       "['now', 'im', 'left', 'with', 'this']"
      ]
     },
     "execution_count": 10,
     "metadata": {},
     "output_type": "execute_result"
    }
   ],
   "source": [
    "webchat=nps_chat.words()  #calling list of words from nps wchat\n",
    "webchat[0:5]"
   ]
  },
  {
   "cell_type": "code",
   "execution_count": 11,
   "metadata": {
    "collapsed": false
   },
   "outputs": [],
   "source": [
    "webchat = [x.lower() for x in webchat] #turn all contents in lower case"
   ]
  },
  {
   "cell_type": "code",
   "execution_count": 12,
   "metadata": {
    "collapsed": false
   },
   "outputs": [],
   "source": [
    "webchat_filtered_stopwords = [word for word in webchat if (word.lower()) not in stopwords.words('english')] # filter out stopwords\n",
    "#print(webchat_filtered_stopwords)\n",
    "#len(Shake_filtered_stopwords)"
   ]
  },
  {
   "cell_type": "code",
   "execution_count": 19,
   "metadata": {
    "collapsed": false
   },
   "outputs": [],
   "source": [
    "import re  #import reg expression\n",
    "nonPunct = re.compile('.*[A-Za-z].*')  # filter out punctutations and only contain letters (number not included)\n",
    "webtext_filtered_punct = [w for w in webchat_filtered_stopwords if nonPunct.match(w)]\n",
    "webchat_wordlist=set(webtext_filtered_punct)\n",
    "\n",
    "nonUser = re.compile('^u[0-9].')  #filter out user\n",
    "webchat_nonUserList = [w for w in webchat_wordlist if not nonUser.match(w)]\n",
    "#webchat_nonUserList"
   ]
  },
  {
   "cell_type": "code",
   "execution_count": 20,
   "metadata": {
    "collapsed": false
   },
   "outputs": [],
   "source": [
    "from nltk.corpus import words #importing webtext from nltk corpus"
   ]
  },
  {
   "cell_type": "code",
   "execution_count": 21,
   "metadata": {
    "collapsed": false
   },
   "outputs": [
    {
     "data": {
      "text/plain": [
       "['en', 'en-basic']"
      ]
     },
     "execution_count": 21,
     "metadata": {},
     "output_type": "execute_result"
    }
   ],
   "source": [
    "word_file = words.fileids()\n",
    "word_file"
   ]
  },
  {
   "cell_type": "code",
   "execution_count": 29,
   "metadata": {
    "collapsed": false
   },
   "outputs": [],
   "source": [
    "wordlist = []\n",
    "for w in word_file:  \n",
    "        word1= words.words(w)\n",
    "        wordlist.extend(word1)\n",
    "wordlist = [x.lower() for x in wordlist]\n",
    "#wordlist"
   ]
  },
  {
   "cell_type": "code",
   "execution_count": 38,
   "metadata": {
    "collapsed": false
   },
   "outputs": [],
   "source": [
    "unusual_words=[x for x in webchat_nonUserList if x not in wordlist] #filter out webchat words from wordlist"
   ]
  },
  {
   "cell_type": "code",
   "execution_count": 51,
   "metadata": {
    "collapsed": false
   },
   "outputs": [
    {
     "name": "stdout",
     "output_type": "stream",
     "text": [
      "Number of unusual words:  2313\n",
      "\n",
      "\n",
      "Unusual words used in web chat are(sorted alphabetically):\n",
      "beams\n",
      "choc\n",
      "clubs\n",
      "controllers\n",
      "defrags\n",
      "diseast\n",
      "doin\n",
      "dork\n",
      "exwife\n",
      "fella\n",
      "grins\n",
      "huggs\n",
      "meeeeeeeeeeeee\n",
      "nbc\n",
      "oc\n",
      "p.\n",
      "qwertyuiop\n",
      "t/y\n",
      "uuuhhh\n",
      "wings\n"
     ]
    }
   ],
   "source": [
    "# Answers of question 1:\n",
    "\n",
    "print(\"Number of unusual words: \",len(unusual_words))\n",
    "print(\"\\n\")\n",
    "print(\"Unusual words used in web chat are(sorted alphabetically):\")\n",
    "for unusual in sorted(unusual_words[0:20]): \n",
    "    print(unusual)"
   ]
  },
  {
   "cell_type": "code",
   "execution_count": 52,
   "metadata": {
    "collapsed": false
   },
   "outputs": [],
   "source": [
    "smilyList = [':)',':(', ';)',':@',';P',':P', ':o',':-)',':-(',';-)',':-@','-_-'] #manually a list created for smiley\n",
    "webchat_smilyList = [word for word in webchat if word in smilyList] # filter out only which matches smilyList item"
   ]
  },
  {
   "cell_type": "code",
   "execution_count": 53,
   "metadata": {
    "collapsed": false
   },
   "outputs": [],
   "source": [
    "simly_counts={}  #new dict is created\n",
    "for b in webchat_smilyList:\n",
    "    if b not in simly_counts: \n",
    "        simly_counts[b] = 1 # if word appears first time, it will add to the dictionary, Shake_final_counts1\n",
    "    else:\n",
    "        simly_counts[b] += 1 # if word reappears again it will add to the same dict, Shake_final_counts1  \n",
    "\n",
    "import operator\n",
    "sorted_simly_counts = sorted(simly_counts.items(), key=operator.itemgetter(1), reverse=True) #sorting done by value"
   ]
  },
  {
   "cell_type": "code",
   "execution_count": 54,
   "metadata": {
    "collapsed": false
   },
   "outputs": [
    {
     "name": "stdout",
     "output_type": "stream",
     "text": [
      "Counts of simley(sorted by count):\n",
      "\n",
      "\n",
      "Simley\tFrequency\n",
      ":)         101\n",
      ";)         29\n",
      ":-)        27\n",
      ";-)        20\n",
      ":(         9\n",
      ":o         4\n",
      ":-@        4\n",
      ":-(        4\n",
      ":@         1\n",
      "-_-        1\n"
     ]
    }
   ],
   "source": [
    "# Answers of Bonous question:\n",
    "\n",
    "print(\"Counts of simley(sorted by count):\")\n",
    "print(\"\\n\")\n",
    "print(\"Simley\\tFrequency\")\n",
    "\n",
    "\n",
    "for k in sorted_simly_counts: \n",
    "    print(\"{0:10} {1}\".format(*k))"
   ]
  }
 ],
 "metadata": {
  "anaconda-cloud": {},
  "kernelspec": {
   "display_name": "Python [conda root]",
   "language": "python",
   "name": "conda-root-py"
  },
  "language_info": {
   "codemirror_mode": {
    "name": "ipython",
    "version": 3
   },
   "file_extension": ".py",
   "mimetype": "text/x-python",
   "name": "python",
   "nbconvert_exporter": "python",
   "pygments_lexer": "ipython3",
   "version": "3.5.2"
  }
 },
 "nbformat": 4,
 "nbformat_minor": 1
}
