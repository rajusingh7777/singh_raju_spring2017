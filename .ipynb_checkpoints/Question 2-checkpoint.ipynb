{
 "cells": [
  {
   "cell_type": "markdown",
   "metadata": {},
   "source": [
    "# Question 2\n",
    "- Under package Gutenberg get content from file 'melville-moby_dick.txt.' \n",
    "- Find out frequency of 26 characters. (Turn uppercase into lowercase and count as one character)\n",
    "- List all 26 characters in order base on their frequency. (From most frequent to least frequent)"
   ]
  },
  {
   "cell_type": "code",
   "execution_count": 2,
   "metadata": {
    "collapsed": true
   },
   "outputs": [],
   "source": [
    "import nltk #importing nltk"
   ]
  },
  {
   "cell_type": "code",
   "execution_count": 3,
   "metadata": {
    "collapsed": true
   },
   "outputs": [],
   "source": [
    "from nltk.corpus import gutenberg #importing gutenerg from nltk corpus"
   ]
  },
  {
   "cell_type": "code",
   "execution_count": 4,
   "metadata": {
    "collapsed": false
   },
   "outputs": [
    {
     "data": {
      "text/plain": [
       "['austen-emma.txt',\n",
       " 'austen-persuasion.txt',\n",
       " 'austen-sense.txt',\n",
       " 'bible-kjv.txt',\n",
       " 'blake-poems.txt',\n",
       " 'bryant-stories.txt',\n",
       " 'burgess-busterbrown.txt',\n",
       " 'carroll-alice.txt',\n",
       " 'chesterton-ball.txt',\n",
       " 'chesterton-brown.txt',\n",
       " 'chesterton-thursday.txt',\n",
       " 'edgeworth-parents.txt',\n",
       " 'melville-moby_dick.txt',\n",
       " 'milton-paradise.txt',\n",
       " 'shakespeare-caesar.txt',\n",
       " 'shakespeare-hamlet.txt',\n",
       " 'shakespeare-macbeth.txt',\n",
       " 'whitman-leaves.txt']"
      ]
     },
     "execution_count": 4,
     "metadata": {},
     "output_type": "execute_result"
    }
   ],
   "source": [
    "gutenberg.fileids() # listdown all files present in gutenberg"
   ]
  },
  {
   "cell_type": "code",
   "execution_count": 10,
   "metadata": {
    "collapsed": false
   },
   "outputs": [
    {
     "name": "stdout",
     "output_type": "stream",
     "text": [
      "Contents of Austen-persuasion.txt are:\n",
      "\n",
      "\n",
      "[Moby Dick by Herman Melville 1851]\r\n",
      "\r\n",
      "\r\n",
      "ETYMOLOGY.\r\n",
      "\r\n",
      "(Supplied by a Late Consumptive Usher to a Grammar School)\r\n",
      "\r\n",
      "The pale Usher--threadbare in coat, heart, body, and brain; I see him\r\n",
      "now.  He was ever dusting his old lexicons and grammars, with a queer\r\n",
      "handkerchief, mockingly embellished with all the gay flags of all the\r\n",
      "known nations of the world.  He loved to dust his old grammars; it\r\n",
      "so\n"
     ]
    }
   ],
   "source": [
    "contentsOfFile = nltk.corpus.gutenberg.raw('melville-moby_dick.txt') # Called raw contents in the called file \n",
    "print(\"Contents of Austen-persuasion.txt are:\") \n",
    "print(\"\\n\")\n",
    "contentsofFile_lower = contentsOfFile.lower() # All uppercase chararcters changed to lowercase\n",
    "print(contentsOfFile[0:400])"
   ]
  },
  {
   "cell_type": "code",
   "execution_count": 11,
   "metadata": {
    "collapsed": false
   },
   "outputs": [],
   "source": [
    "import re  #importing regular expression \n",
    "contentsofFile_alpha= re.sub(r'[^a-z]', '', contentsofFile_lower) # call only alphabets from the file"
   ]
  },
  {
   "cell_type": "code",
   "execution_count": 12,
   "metadata": {
    "collapsed": false
   },
   "outputs": [
    {
     "name": "stdout",
     "output_type": "stream",
     "text": [
      "Characters which are most frequently appeared in Austen-persuasion.txt are(sorted by freq):\n",
      "e\t117092\n",
      "t\t87996\n",
      "a\t77916\n",
      "o\t69326\n",
      "n\t65617\n",
      "i\t65434\n",
      "s\t64231\n",
      "h\t62896\n",
      "r\t52134\n",
      "l\t42793\n",
      "d\t38219\n",
      "u\t26697\n",
      "m\t23277\n",
      "c\t22507\n",
      "w\t22222\n",
      "f\t20833\n",
      "g\t20820\n",
      "p\t17255\n",
      "b\t16877\n",
      "y\t16872\n",
      "v\t8598\n",
      "k\t8059\n",
      "q\t1556\n",
      "j\t1082\n",
      "x\t1030\n",
      "z\t632\n"
     ]
    }
   ],
   "source": [
    "alphabetlist = {} # Blank dictionary is created\n",
    "\n",
    "for char in contentsofFile_alpha: # iterate charachters in the raw file\n",
    "    if char not in alphabetlist: \n",
    "        alphabetlist[char] = 1 # if word appears first time, it will add to the dictionary\n",
    "    else:\n",
    "        alphabetlist[char] += 1 # if word is already existed, it will increment the key value\n",
    "        \n",
    "import operator\n",
    "sorted_wordlist = sorted(alphabetlist.items(), key=operator.itemgetter(1), reverse=True) # Call representation of dictionary and sorted it by value \n",
    "\n",
    "print(\"Characters which are most frequently appeared in Austen-persuasion.txt are(sorted by freq):\")\n",
    "for TopTenwords in sorted_wordlist[0:26]: # Call top ten words and frequency \n",
    "    print(\"{}\\t{}\".format(*TopTenwords))"
   ]
  }
 ],
 "metadata": {
  "anaconda-cloud": {},
  "kernelspec": {
   "display_name": "Python [conda root]",
   "language": "python",
   "name": "conda-root-py"
  },
  "language_info": {
   "codemirror_mode": {
    "name": "ipython",
    "version": 3
   },
   "file_extension": ".py",
   "mimetype": "text/x-python",
   "name": "python",
   "nbconvert_exporter": "python",
   "pygments_lexer": "ipython3",
   "version": "3.5.2"
  }
 },
 "nbformat": 4,
 "nbformat_minor": 1
}
