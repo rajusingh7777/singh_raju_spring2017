{
 "cells": [
  {
   "cell_type": "markdown",
   "metadata": {},
   "source": [
    "# Question 7\n",
    "- Use Name corpus, calculate the probability of a name being of a male or female base on the last character(s) of name.\n",
    "- Output must come with proper title (e.g. [a] male: 25%, female: 60%)"
   ]
  },
  {
   "cell_type": "code",
   "execution_count": 1,
   "metadata": {
    "collapsed": false
   },
   "outputs": [],
   "source": [
    "import nltk"
   ]
  },
  {
   "cell_type": "code",
   "execution_count": 2,
   "metadata": {
    "collapsed": false
   },
   "outputs": [],
   "source": [
    "from nltk.corpus import names"
   ]
  },
  {
   "cell_type": "code",
   "execution_count": 3,
   "metadata": {
    "collapsed": false
   },
   "outputs": [
    {
     "data": {
      "text/plain": [
       "['female.txt', 'male.txt']"
      ]
     },
     "execution_count": 3,
     "metadata": {},
     "output_type": "execute_result"
    }
   ],
   "source": [
    "names.fileids()"
   ]
  },
  {
   "cell_type": "code",
   "execution_count": 4,
   "metadata": {
    "collapsed": false
   },
   "outputs": [
    {
     "data": {
      "text/plain": [
       "['r', 'n', 'y', 'e', 't']"
      ]
     },
     "execution_count": 4,
     "metadata": {},
     "output_type": "execute_result"
    }
   ],
   "source": [
    "#taking out last letter of each name in from the male name list\n",
    "maleLastLetter = [] #new blank list is created\n",
    "for name in names.words('male.txt'):\n",
    "    cc =(name[-1])\n",
    "    maleLastLetter.append(cc) # appending into created list, tt\n",
    "maleLastLetter[:5]"
   ]
  },
  {
   "cell_type": "code",
   "execution_count": 5,
   "metadata": {
    "collapsed": false
   },
   "outputs": [],
   "source": [
    "#counting how many time ending letters of male appear\n",
    "ss_m = {}\n",
    "for char in maleLastLetter: # iterate charachters in the list\n",
    "    if char not in ss_m: \n",
    "        ss_m[char] = 1 # if word appears first time, it will add value 1 of corresponding key in the dictionary\n",
    "    else:\n",
    "        ss_m[char] += 1 # if word reappears, it will increment value of corresponding key\n",
    "#ss_m"
   ]
  },
  {
   "cell_type": "code",
   "execution_count": 6,
   "metadata": {
    "collapsed": false
   },
   "outputs": [],
   "source": [
    "#updating the dict, ss_m for those alphabets which are not appeared in the dict. It will add that letter with value 0\n",
    "aplhabets_m = []\n",
    "missing_alpha_m = []\n",
    "for letter in range(97,122):\n",
    "    aplhabets_m.append(chr(letter))\n",
    "\n",
    "for a in aplhabets_m:\n",
    "    if a not in ss_m:\n",
    "        missing_alpha_m.append(a)\n",
    "\n",
    "for char in missing_alpha_m:\n",
    "    ss_m.update({char:0})\n",
    "\n",
    "#ss_m"
   ]
  },
  {
   "cell_type": "code",
   "execution_count": 7,
   "metadata": {
    "collapsed": false
   },
   "outputs": [
    {
     "data": {
      "text/plain": [
       "['l', 'l', 'e', 'y', 'i']"
      ]
     },
     "execution_count": 7,
     "metadata": {},
     "output_type": "execute_result"
    }
   ],
   "source": [
    "#taking out last letter of each name in from the female name list\n",
    "femaleLastLetter = []\n",
    "for name in names.words('female.txt'):\n",
    "    cc_f =name[-1]\n",
    "    femaleLastLetter.append(cc_f)\n",
    "femaleLastLetter[:5]"
   ]
  },
  {
   "cell_type": "code",
   "execution_count": 8,
   "metadata": {
    "collapsed": false
   },
   "outputs": [],
   "source": [
    "#counting how many time ending letters of female appear\n",
    "ss_f = {}\n",
    "for char in femaleLastLetter: # iterate charachters in the raw file\n",
    "    if char not in ss_f: \n",
    "        ss_f[char] = 1 # if word appears first time, it will add to the dictionary\n",
    "    else:\n",
    "        ss_f[char] += 1 \n",
    "#ss_f"
   ]
  },
  {
   "cell_type": "code",
   "execution_count": 9,
   "metadata": {
    "collapsed": false
   },
   "outputs": [],
   "source": [
    "#updating the dict, ss_f for those alphabets which are not appeared in the dict. It will add that letter with value 0\n",
    "aplhabets_f = []\n",
    "missing_alpha_f = []\n",
    "for letter in range(97,122):\n",
    "    aplhabets_f.append(chr(letter))\n",
    "\n",
    "for a in aplhabets_f:\n",
    "    if a not in ss_f:\n",
    "        missing_alpha_f.append(a)\n",
    "\n",
    "for char in missing_alpha_f:\n",
    "    ss_f.update({char:0})\n",
    "\n",
    "#ss_f"
   ]
  },
  {
   "cell_type": "code",
   "execution_count": 10,
   "metadata": {
    "collapsed": false
   },
   "outputs": [
    {
     "name": "stdout",
     "output_type": "stream",
     "text": [
      "Percentage ratio of Male and Female ending in letter: a\n",
      "Male: \t 2 %\n",
      "Female:\t 98 %\n",
      "\n",
      "\n",
      "Percentage ratio of Male and Female ending in letter: b\n",
      "Male: \t 70 %\n",
      "Female:\t 30 %\n",
      "\n",
      "\n",
      "Percentage ratio of Male and Female ending in letter: c\n",
      "Male: \t 100 %\n",
      "Female:\t 0 %\n",
      "\n",
      "\n",
      "Percentage ratio of Male and Female ending in letter: d\n",
      "Male: \t 85 %\n",
      "Female:\t 15 %\n",
      "\n",
      "\n",
      "Percentage ratio of Male and Female ending in letter: e\n",
      "Male: \t 25 %\n",
      "Female:\t 75 %\n",
      "\n",
      "\n",
      "Percentage ratio of Male and Female ending in letter: f\n",
      "Male: \t 93 %\n",
      "Female:\t 7 %\n",
      "\n",
      "\n",
      "Percentage ratio of Male and Female ending in letter: g\n",
      "Male: \t 76 %\n",
      "Female:\t 24 %\n",
      "\n",
      "\n",
      "Percentage ratio of Male and Female ending in letter: h\n",
      "Male: \t 47 %\n",
      "Female:\t 53 %\n",
      "\n",
      "\n",
      "Percentage ratio of Male and Female ending in letter: i\n",
      "Male: \t 14 %\n",
      "Female:\t 86 %\n",
      "\n",
      "\n",
      "Percentage ratio of Male and Female ending in letter: j\n",
      "Male: \t 75 %\n",
      "Female:\t 25 %\n",
      "\n",
      "\n",
      "Percentage ratio of Male and Female ending in letter: k\n",
      "Male: \t 96 %\n",
      "Female:\t 4 %\n",
      "\n",
      "\n",
      "Percentage ratio of Male and Female ending in letter: l\n",
      "Male: \t 51 %\n",
      "Female:\t 49 %\n",
      "\n",
      "\n",
      "Percentage ratio of Male and Female ending in letter: m\n",
      "Male: \t 84 %\n",
      "Female:\t 16 %\n",
      "\n",
      "\n",
      "Percentage ratio of Male and Female ending in letter: n\n",
      "Male: \t 55 %\n",
      "Female:\t 45 %\n",
      "\n",
      "\n",
      "Percentage ratio of Male and Female ending in letter: o\n",
      "Male: \t 83 %\n",
      "Female:\t 17 %\n",
      "\n",
      "\n",
      "Percentage ratio of Male and Female ending in letter: p\n",
      "Male: \t 90 %\n",
      "Female:\t 10 %\n",
      "\n",
      "\n",
      "Percentage ratio of Male and Female ending in letter: q\n",
      "No data available!! for letter ending with q\n",
      "\n",
      "\n",
      "Percentage ratio of Male and Female ending in letter: r\n",
      "Male: \t 80 %\n",
      "Female:\t 20 %\n",
      "\n",
      "\n",
      "Percentage ratio of Male and Female ending in letter: s\n",
      "Male: \t 71 %\n",
      "Female:\t 29 %\n",
      "\n",
      "\n",
      "Percentage ratio of Male and Female ending in letter: t\n",
      "Male: \t 71 %\n",
      "Female:\t 29 %\n",
      "\n",
      "\n",
      "Percentage ratio of Male and Female ending in letter: u\n",
      "Male: \t 67 %\n",
      "Female:\t 33 %\n",
      "\n",
      "\n",
      "Percentage ratio of Male and Female ending in letter: v\n",
      "Male: \t 89 %\n",
      "Female:\t 11 %\n",
      "\n",
      "\n",
      "Percentage ratio of Male and Female ending in letter: w\n",
      "Male: \t 77 %\n",
      "Female:\t 23 %\n",
      "\n",
      "\n",
      "Percentage ratio of Male and Female ending in letter: x\n",
      "Male: \t 50 %\n",
      "Female:\t 50 %\n",
      "\n",
      "\n",
      "Percentage ratio of Male and Female ending in letter: y\n",
      "Male: \t 42 %\n",
      "Female:\t 58 %\n",
      "\n",
      "\n",
      "Percentage ratio of Male and Female ending in letter: z\n",
      "Male: \t 73 %\n",
      "Female:\t 27 %\n",
      "\n",
      "\n"
     ]
    }
   ],
   "source": [
    "# Counting probability of male name or female name considering ending letter of name for a-z \n",
    "\n",
    "for letter in range(96,123):  #iterating over ascii number for a to z\n",
    "    for key1, value1 in ss_m.items():\n",
    "        if key1==chr(letter):\n",
    "            for key2, value2 in ss_f.items(): #iterating over ascii number for a to z\n",
    "                if key2==chr(letter):\n",
    "                    try:\n",
    "                        print(\"Percentage ratio of Male and Female ending in letter:\", key2)\n",
    "                        print('Male: \\t', round((value1/(value1+value2))*100),'%')\n",
    "                        print('Female:\\t', round((value2/(value1+value2))*100),'%')\n",
    "                        print(\"\\n\")\n",
    "                    except ZeroDivisionError:\n",
    "                        print('No data available!! for letter ending with',key2)\n",
    "                        print(\"\\n\")\n",
    "          "
   ]
  }
 ],
 "metadata": {
  "anaconda-cloud": {},
  "kernelspec": {
   "display_name": "Python [conda root]",
   "language": "python",
   "name": "conda-root-py"
  },
  "language_info": {
   "codemirror_mode": {
    "name": "ipython",
    "version": 3
   },
   "file_extension": ".py",
   "mimetype": "text/x-python",
   "name": "python",
   "nbconvert_exporter": "python",
   "pygments_lexer": "ipython3",
   "version": "3.5.2"
  }
 },
 "nbformat": 4,
 "nbformat_minor": 1
}
