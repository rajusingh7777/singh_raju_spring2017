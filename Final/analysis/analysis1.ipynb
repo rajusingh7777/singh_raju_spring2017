{
 "cells": [
  {
   "cell_type": "markdown",
   "metadata": {},
   "source": [
    "# ANALYZING CRIME INCIDENTS IN BOSTON FROM 2013 TO 2016"
   ]
  },
  {
   "cell_type": "code",
   "execution_count": 1,
   "metadata": {
    "collapsed": false
   },
   "outputs": [],
   "source": [
    "#importing libraries\n",
    "import pandas as pd \n",
    "import matplotlib.pyplot as plt\n",
    "import matplotlib\n",
    "import numpy as np\n",
    "matplotlib.style.use('ggplot')\n",
    "from bokeh.plotting import *\n",
    "from bokeh.models import HoverTool"
   ]
  },
  {
   "cell_type": "code",
   "execution_count": 2,
   "metadata": {
    "collapsed": false
   },
   "outputs": [
    {
     "name": "stderr",
     "output_type": "stream",
     "text": [
      "/Users/rajusingh/anaconda/envs/eq_env/lib/python3.6/site-packages/IPython/core/interactiveshell.py:2717: DtypeWarning: Columns (0) have mixed types. Specify dtype option on import or set low_memory=False.\n",
      "  interactivity=interactivity, compiler=compiler, result=result)\n"
     ]
    }
   ],
   "source": [
    "df1=pd.read_csv(\"../data/ProcessedData/merged_crime_data_2012_to_2017.csv\")"
   ]
  },
  {
   "cell_type": "code",
   "execution_count": 3,
   "metadata": {
    "collapsed": false
   },
   "outputs": [
    {
     "data": {
      "text/html": [
       "<div>\n",
       "<table border=\"1\" class=\"dataframe\">\n",
       "  <thead>\n",
       "    <tr style=\"text-align: right;\">\n",
       "      <th></th>\n",
       "      <th>INCIDENT_NUM</th>\n",
       "      <th>OFFENSE_DESCRIPTION</th>\n",
       "      <th>DISTRICT</th>\n",
       "      <th>OCCURRED_ON_DATE</th>\n",
       "      <th>SHOOTING</th>\n",
       "      <th>YEAR</th>\n",
       "      <th>MONTH</th>\n",
       "      <th>DAY_OF_WEEK</th>\n",
       "      <th>STREET</th>\n",
       "      <th>LOCATION</th>\n",
       "    </tr>\n",
       "  </thead>\n",
       "  <tbody>\n",
       "    <tr>\n",
       "      <th>0</th>\n",
       "      <td>120420285</td>\n",
       "      <td>RESIDENTIAL BURGLARY</td>\n",
       "      <td>D4</td>\n",
       "      <td>2012-07-08T06:00:00.000</td>\n",
       "      <td>No</td>\n",
       "      <td>2012</td>\n",
       "      <td>7</td>\n",
       "      <td>Sunday</td>\n",
       "      <td>ABERDEEN ST</td>\n",
       "      <td>{'type': 'Point', 'coordinates': [-71.103795, ...</td>\n",
       "    </tr>\n",
       "    <tr>\n",
       "      <th>1</th>\n",
       "      <td>120419202</td>\n",
       "      <td>AGGRAVATED ASSAULT</td>\n",
       "      <td>B2</td>\n",
       "      <td>2012-07-08T06:03:00.000</td>\n",
       "      <td>Yes</td>\n",
       "      <td>2012</td>\n",
       "      <td>7</td>\n",
       "      <td>Sunday</td>\n",
       "      <td>HOWARD AV</td>\n",
       "      <td>{'type': 'Point', 'coordinates': [-71.074585, ...</td>\n",
       "    </tr>\n",
       "    <tr>\n",
       "      <th>2</th>\n",
       "      <td>120419213</td>\n",
       "      <td>ROBBERY</td>\n",
       "      <td>D4</td>\n",
       "      <td>2012-07-08T06:26:00.000</td>\n",
       "      <td>No</td>\n",
       "      <td>2012</td>\n",
       "      <td>7</td>\n",
       "      <td>Sunday</td>\n",
       "      <td>JERSEY ST</td>\n",
       "      <td>{'type': 'Point', 'coordinates': [-71.09699, 4...</td>\n",
       "    </tr>\n",
       "    <tr>\n",
       "      <th>3</th>\n",
       "      <td>120419223</td>\n",
       "      <td>COMMERCIAL BURGLARY</td>\n",
       "      <td>B2</td>\n",
       "      <td>2012-07-08T06:56:00.000</td>\n",
       "      <td>No</td>\n",
       "      <td>2012</td>\n",
       "      <td>7</td>\n",
       "      <td>Sunday</td>\n",
       "      <td>COLUMBIA RD</td>\n",
       "      <td>{'type': 'Point', 'coordinates': [-71.065829, ...</td>\n",
       "    </tr>\n",
       "    <tr>\n",
       "      <th>4</th>\n",
       "      <td>120419236</td>\n",
       "      <td>ROBBERY</td>\n",
       "      <td>E18</td>\n",
       "      <td>2012-07-08T07:15:00.000</td>\n",
       "      <td>No</td>\n",
       "      <td>2012</td>\n",
       "      <td>7</td>\n",
       "      <td>Sunday</td>\n",
       "      <td>COLLINS ST</td>\n",
       "      <td>{'type': 'Point', 'coordinates': [-71.1199, 42...</td>\n",
       "    </tr>\n",
       "  </tbody>\n",
       "</table>\n",
       "</div>"
      ],
      "text/plain": [
       "  INCIDENT_NUM   OFFENSE_DESCRIPTION DISTRICT         OCCURRED_ON_DATE  \\\n",
       "0    120420285  RESIDENTIAL BURGLARY       D4  2012-07-08T06:00:00.000   \n",
       "1    120419202    AGGRAVATED ASSAULT       B2  2012-07-08T06:03:00.000   \n",
       "2    120419213               ROBBERY       D4  2012-07-08T06:26:00.000   \n",
       "3    120419223   COMMERCIAL BURGLARY       B2  2012-07-08T06:56:00.000   \n",
       "4    120419236               ROBBERY      E18  2012-07-08T07:15:00.000   \n",
       "\n",
       "  SHOOTING  YEAR  MONTH DAY_OF_WEEK       STREET  \\\n",
       "0       No  2012      7      Sunday  ABERDEEN ST   \n",
       "1      Yes  2012      7      Sunday    HOWARD AV   \n",
       "2       No  2012      7      Sunday    JERSEY ST   \n",
       "3       No  2012      7      Sunday  COLUMBIA RD   \n",
       "4       No  2012      7      Sunday   COLLINS ST   \n",
       "\n",
       "                                            LOCATION  \n",
       "0  {'type': 'Point', 'coordinates': [-71.103795, ...  \n",
       "1  {'type': 'Point', 'coordinates': [-71.074585, ...  \n",
       "2  {'type': 'Point', 'coordinates': [-71.09699, 4...  \n",
       "3  {'type': 'Point', 'coordinates': [-71.065829, ...  \n",
       "4  {'type': 'Point', 'coordinates': [-71.1199, 42...  "
      ]
     },
     "execution_count": 3,
     "metadata": {},
     "output_type": "execute_result"
    }
   ],
   "source": [
    "df1.head()"
   ]
  },
  {
   "cell_type": "code",
   "execution_count": 4,
   "metadata": {
    "collapsed": false
   },
   "outputs": [],
   "source": [
    "#df2=df1.drop_duplicates('INCIDENT_NUM', keep= False)"
   ]
  },
  {
   "cell_type": "code",
   "execution_count": 5,
   "metadata": {
    "collapsed": false
   },
   "outputs": [],
   "source": [
    "#df2.shape"
   ]
  },
  {
   "cell_type": "markdown",
   "metadata": {},
   "source": [
    "# Analysis- If we check the crime rate of last 4 years."
   ]
  },
  {
   "cell_type": "code",
   "execution_count": 6,
   "metadata": {
    "collapsed": false
   },
   "outputs": [],
   "source": [
    "df2=df1.groupby('YEAR').INCIDENT_NUM.count()"
   ]
  },
  {
   "cell_type": "code",
   "execution_count": 7,
   "metadata": {
    "collapsed": false
   },
   "outputs": [],
   "source": [
    "df2=df2.reset_index(drop=False)"
   ]
  },
  {
   "cell_type": "code",
   "execution_count": 16,
   "metadata": {
    "collapsed": false
   },
   "outputs": [
    {
     "data": {
      "text/html": [
       "<div>\n",
       "<table border=\"1\" class=\"dataframe\">\n",
       "  <thead>\n",
       "    <tr style=\"text-align: right;\">\n",
       "      <th></th>\n",
       "      <th>YEAR</th>\n",
       "      <th>INCIDENT_NUM</th>\n",
       "    </tr>\n",
       "  </thead>\n",
       "  <tbody>\n",
       "    <tr>\n",
       "      <th>0</th>\n",
       "      <td>2013</td>\n",
       "      <td>87052</td>\n",
       "    </tr>\n",
       "    <tr>\n",
       "      <th>1</th>\n",
       "      <td>2014</td>\n",
       "      <td>88058</td>\n",
       "    </tr>\n",
       "    <tr>\n",
       "      <th>2</th>\n",
       "      <td>2015</td>\n",
       "      <td>90938</td>\n",
       "    </tr>\n",
       "    <tr>\n",
       "      <th>3</th>\n",
       "      <td>2016</td>\n",
       "      <td>98738</td>\n",
       "    </tr>\n",
       "  </tbody>\n",
       "</table>\n",
       "</div>"
      ],
      "text/plain": [
       "   YEAR  INCIDENT_NUM\n",
       "0  2013         87052\n",
       "1  2014         88058\n",
       "2  2015         90938\n",
       "3  2016         98738"
      ]
     },
     "execution_count": 16,
     "metadata": {},
     "output_type": "execute_result"
    }
   ],
   "source": [
    "df_A=df2.ix[1:4,:].reset_index(drop=True)\n",
    "df_A.to_csv('../analysis/analysis1/CrimeIncidents_2013_to_2016.csv', index=False)\n",
    "df_A"
   ]
  },
  {
   "cell_type": "code",
   "execution_count": 14,
   "metadata": {
    "collapsed": false
   },
   "outputs": [
    {
     "data": {
      "image/png": "[encoded data removed]",
      "text/plain": [
       "<matplotlib.figure.Figure at 0x111062320>"
      ]
     },
     "metadata": {},
     "output_type": "display_data"
    }
   ],
   "source": [
    "plt.figure(figsize=(10,8))\n",
    "pt=plt.bar(df_A.YEAR,df_A.INCIDENT_NUM,color='red')\n",
    "plt.xlabel('Year')\n",
    "plt.ylabel('Total Crime Incidents')\n",
    "plt.show()"
   ]
  },
  {
   "cell_type": "markdown",
   "metadata": {},
   "source": [
    "# Conclusion- There is no steep but subtle rise in crime rate in last 4 years."
   ]
  },
  {
   "cell_type": "markdown",
   "metadata": {},
   "source": [
    "#  ---#-#-#-#---"
   ]
  },
  {
   "cell_type": "markdown",
   "metadata": {},
   "source": [
    "# Analysis ???\n",
    "- Percentage rate of change of crime in last 4 years there is subtle increase in crime rate."
   ]
  },
  {
   "cell_type": "code",
   "execution_count": 17,
   "metadata": {
    "collapsed": false
   },
   "outputs": [],
   "source": [
    "df3=df1.groupby(['YEAR','MONTH']).INCIDENT_NUM.count()\n",
    "df3=df3.reset_index(inplace=False)"
   ]
  },
  {
   "cell_type": "code",
   "execution_count": 18,
   "metadata": {
    "collapsed": false
   },
   "outputs": [
    {
     "data": {
      "text/html": [
       "<div>\n",
       "<table border=\"1\" class=\"dataframe\">\n",
       "  <thead>\n",
       "    <tr style=\"text-align: right;\">\n",
       "      <th></th>\n",
       "      <th>YEAR</th>\n",
       "      <th>MONTH</th>\n",
       "      <th>INCIDENT_NUM</th>\n",
       "    </tr>\n",
       "  </thead>\n",
       "  <tbody>\n",
       "    <tr>\n",
       "      <th>6</th>\n",
       "      <td>2013</td>\n",
       "      <td>1</td>\n",
       "      <td>7002</td>\n",
       "    </tr>\n",
       "    <tr>\n",
       "      <th>7</th>\n",
       "      <td>2013</td>\n",
       "      <td>2</td>\n",
       "      <td>5951</td>\n",
       "    </tr>\n",
       "    <tr>\n",
       "      <th>8</th>\n",
       "      <td>2013</td>\n",
       "      <td>3</td>\n",
       "      <td>7088</td>\n",
       "    </tr>\n",
       "    <tr>\n",
       "      <th>9</th>\n",
       "      <td>2013</td>\n",
       "      <td>4</td>\n",
       "      <td>6988</td>\n",
       "    </tr>\n",
       "    <tr>\n",
       "      <th>10</th>\n",
       "      <td>2013</td>\n",
       "      <td>5</td>\n",
       "      <td>7710</td>\n",
       "    </tr>\n",
       "  </tbody>\n",
       "</table>\n",
       "</div>"
      ],
      "text/plain": [
       "    YEAR  MONTH  INCIDENT_NUM\n",
       "6   2013      1          7002\n",
       "7   2013      2          5951\n",
       "8   2013      3          7088\n",
       "9   2013      4          6988\n",
       "10  2013      5          7710"
      ]
     },
     "execution_count": 18,
     "metadata": {},
     "output_type": "execute_result"
    }
   ],
   "source": [
    "#filtering out 2012 and 2017 from analysis\n",
    "df3 = df3[df3.YEAR!=(2012)]\n",
    "df3 = df3[df3.YEAR!=(2017)]\n",
    "df3.reset_index(drop=True)\n",
    "df3.head()"
   ]
  },
  {
   "cell_type": "code",
   "execution_count": 19,
   "metadata": {
    "collapsed": false
   },
   "outputs": [],
   "source": [
    "df1['DATE']=df1.OCCURRED_ON_DATE.apply(lambda x: x.split('T')[0])"
   ]
  },
  {
   "cell_type": "code",
   "execution_count": 20,
   "metadata": {
    "collapsed": false
   },
   "outputs": [],
   "source": [
    "# import pandas as pd\n",
    "# from bokeh.charts import TimeSeries, output_file, show\n",
    "\n",
    "# AAPL = df1[df1.INCIDENT_NUM]\n",
    "\n",
    "# output_file(\"timeseries.html\")\n",
    "\n",
    "# data = dict(AAPL, df1[df1.DATE])\n",
    "\n",
    "# p = TimeSeries(data, index='Date', title=\"APPL\", ylabel='Stock Prices')\n",
    "\n",
    "# show(p)"
   ]
  },
  {
   "cell_type": "code",
   "execution_count": 21,
   "metadata": {
    "collapsed": false
   },
   "outputs": [
    {
     "data": {
      "image/png": "[encoded data removed]",
      "text/plain": [
       "<matplotlib.figure.Figure at 0x111062a58>"
      ]
     },
     "metadata": {},
     "output_type": "display_data"
    }
   ],
   "source": [
    "plt.figure(figsize=(10,8))\n",
    "pt=plt.plot(df3.YEAR,df3.INCIDENT_NUM,color='Blue')\n",
    "plt.show()\n",
    "\n",
    "#weekwise\n",
    "\n",
    "# pt=df3['INCIDENT_NUM'].plot(kind='line', title='Crime in Boston',fontsize=7)\n",
    "# pt.set_ylabel('Crime Incidences')\n",
    "# pt.legend(fontsize=7)\n",
    "# pt.set\n",
    "# plt.show()"
   ]
  },
  {
   "cell_type": "markdown",
   "metadata": {},
   "source": [
    "# Analysis- Day of the week when the crime had happened mostly"
   ]
  },
  {
   "cell_type": "code",
   "execution_count": 51,
   "metadata": {
    "collapsed": false
   },
   "outputs": [
    {
     "data": {
      "text/html": [
       "<div>\n",
       "<table border=\"1\" class=\"dataframe\">\n",
       "  <thead>\n",
       "    <tr style=\"text-align: right;\">\n",
       "      <th></th>\n",
       "      <th>DAY_OF_WEEK</th>\n",
       "      <th>INCIDENT_NUM</th>\n",
       "    </tr>\n",
       "  </thead>\n",
       "  <tbody>\n",
       "    <tr>\n",
       "      <th>0</th>\n",
       "      <td>Monday</td>\n",
       "      <td>62415</td>\n",
       "    </tr>\n",
       "    <tr>\n",
       "      <th>1</th>\n",
       "      <td>Tuesday</td>\n",
       "      <td>62205</td>\n",
       "    </tr>\n",
       "    <tr>\n",
       "      <th>2</th>\n",
       "      <td>Wednesday</td>\n",
       "      <td>62762</td>\n",
       "    </tr>\n",
       "    <tr>\n",
       "      <th>3</th>\n",
       "      <td>Thursday</td>\n",
       "      <td>62882</td>\n",
       "    </tr>\n",
       "    <tr>\n",
       "      <th>4</th>\n",
       "      <td>Friday</td>\n",
       "      <td>67339</td>\n",
       "    </tr>\n",
       "    <tr>\n",
       "      <th>5</th>\n",
       "      <td>Saturday</td>\n",
       "      <td>61815</td>\n",
       "    </tr>\n",
       "    <tr>\n",
       "      <th>6</th>\n",
       "      <td>Sunday</td>\n",
       "      <td>55349</td>\n",
       "    </tr>\n",
       "  </tbody>\n",
       "</table>\n",
       "</div>"
      ],
      "text/plain": [
       "  DAY_OF_WEEK  INCIDENT_NUM\n",
       "0      Monday         62415\n",
       "1     Tuesday         62205\n",
       "2   Wednesday         62762\n",
       "3    Thursday         62882\n",
       "4      Friday         67339\n",
       "5    Saturday         61815\n",
       "6      Sunday         55349"
      ]
     },
     "execution_count": 51,
     "metadata": {},
     "output_type": "execute_result"
    }
   ],
   "source": [
    "df4=df1.groupby('DAY_OF_WEEK').INCIDENT_NUM.count()\n",
    "df4=df4.reset_index(drop=False)\n",
    "#df4=df4.sort_values(by='DAY_OF_WEEK',ascending=True)\n",
    "df4=df4.ix[(1,5,6,4,0,2,3),:]\n",
    "df4=df4.reset_index(drop=True)\n",
    "df4.to_csv('../analysis/analysis1/CrimeIncidents_2013_to_2016.csv', index=False)\n",
    "df4.head(7)"
   ]
  },
  {
   "cell_type": "code",
   "execution_count": 60,
   "metadata": {
    "collapsed": false
   },
   "outputs": [
    {
     "data": {
      "image/png": "[encoded data removed]",
      "text/plain": [
       "<matplotlib.figure.Figure at 0x10ccdd080>"
      ]
     },
     "metadata": {},
     "output_type": "display_data"
    }
   ],
   "source": [
    "#pt=plt.plot(df4.DAY_OF_WEEK,df4.INCIDENT_NUM,color='Green')\n",
    "plt.figure(figsize=(10,8))\n",
    "pt=df4['INCIDENT_NUM'].plot(kind='line', title='Crime Incidences on day of week in Boston',fontsize=7)\n",
    "pt.set_ylabel('Crime No.')\n",
    "start, end = pt.get_xlim()\n",
    "pt.set_xticks(np.arange(start, end, .999))\n",
    "pt.set_xticklabels(df4.DAY_OF_WEEK)\n",
    "pt.lines[-1].set_linewidth(8)\n",
    "pt.legend(fontsize=7)\n",
    "plt.show()"
   ]
  },
  {
   "cell_type": "markdown",
   "metadata": {},
   "source": [
    "# Conclusion: Most of the crime happened on Friday.\n",
    "- Reason could be anything related with intoxication and resulted behaviour like vandalism but we cannot deduce the direct conclusion.\n",
    "- Need to do further analysis to check the charges impressed upon the convict by police dept.\n",
    "- We check the number of crime associated with drug, drink charges on day of the week.\n",
    "- Note: A person can be charged with multiple complaints"
   ]
  },
  {
   "cell_type": "markdown",
   "metadata": {},
   "source": [
    "# Analysis- What resulted more crime on Friday?"
   ]
  },
  {
   "cell_type": "code",
   "execution_count": 15,
   "metadata": {
    "collapsed": false
   },
   "outputs": [],
   "source": [
    "df5=df1[(df1.OFFENSE_DESCRIPTION.apply(lambda x: 'DRUG CHARGES'  in x)) | \n",
    "       (df1.OFFENSE_DESCRIPTION.apply(lambda x: 'PubDrink'  in x)) |\n",
    "       (df1.OFFENSE_DESCRIPTION.apply(lambda x: 'VANDALISM'  in x)) ]\n",
    "\n",
    "#df[(df[Gender]=='Male') & (df[Year]==2014)]"
   ]
  },
  {
   "cell_type": "code",
   "execution_count": 16,
   "metadata": {
    "collapsed": false
   },
   "outputs": [
    {
     "data": {
      "text/html": [
       "<div>\n",
       "<table border=\"1\" class=\"dataframe\">\n",
       "  <thead>\n",
       "    <tr style=\"text-align: right;\">\n",
       "      <th></th>\n",
       "      <th>DAY_OF_WEEK</th>\n",
       "      <th>INCIDENT_NUM</th>\n",
       "    </tr>\n",
       "  </thead>\n",
       "  <tbody>\n",
       "    <tr>\n",
       "      <th>1</th>\n",
       "      <td>Monday</td>\n",
       "      <td>5050</td>\n",
       "    </tr>\n",
       "    <tr>\n",
       "      <th>5</th>\n",
       "      <td>Tuesday</td>\n",
       "      <td>5056</td>\n",
       "    </tr>\n",
       "    <tr>\n",
       "      <th>6</th>\n",
       "      <td>Wednesday</td>\n",
       "      <td>5206</td>\n",
       "    </tr>\n",
       "    <tr>\n",
       "      <th>4</th>\n",
       "      <td>Thursday</td>\n",
       "      <td>4997</td>\n",
       "    </tr>\n",
       "    <tr>\n",
       "      <th>0</th>\n",
       "      <td>Friday</td>\n",
       "      <td>5505</td>\n",
       "    </tr>\n",
       "    <tr>\n",
       "      <th>2</th>\n",
       "      <td>Saturday</td>\n",
       "      <td>5124</td>\n",
       "    </tr>\n",
       "    <tr>\n",
       "      <th>3</th>\n",
       "      <td>Sunday</td>\n",
       "      <td>4519</td>\n",
       "    </tr>\n",
       "  </tbody>\n",
       "</table>\n",
       "</div>"
      ],
      "text/plain": [
       "  DAY_OF_WEEK  INCIDENT_NUM\n",
       "1      Monday          5050\n",
       "5     Tuesday          5056\n",
       "6   Wednesday          5206\n",
       "4    Thursday          4997\n",
       "0      Friday          5505\n",
       "2    Saturday          5124\n",
       "3      Sunday          4519"
      ]
     },
     "execution_count": 16,
     "metadata": {},
     "output_type": "execute_result"
    }
   ],
   "source": [
    "df6=df5.groupby('DAY_OF_WEEK').INCIDENT_NUM.count()\n",
    "df6=df6.reset_index(drop=False)\n",
    "#df4=df4.sort_values(by='DAY_OF_WEEK',ascending=True)\n",
    "df6=df6.ix[(1,5,6,4,0,2,3),:]\n",
    "df6.head(7)"
   ]
  },
  {
   "cell_type": "markdown",
   "metadata": {},
   "source": [
    "# Conclusion: We can see that Friday intoxication(drugs/drinks) and result vandalism is one of the factor which increase the crime on Friday.\n",
    "-Note: There can be other factors but with database this information we can deduce."
   ]
  },
  {
   "cell_type": "code",
   "execution_count": 17,
   "metadata": {
    "collapsed": true
   },
   "outputs": [],
   "source": [
    "# Infact there is direct link between alcohal, drugs abuse and vandalism"
   ]
  },
  {
   "cell_type": "code",
   "execution_count": 18,
   "metadata": {
    "collapsed": true
   },
   "outputs": [],
   "source": [
    "# df7=df1[(df1.OFFENSE_DESCRIPTION.apply(lambda x: 'DRUG CHARGES'  in x)) | \n",
    "#        (df1.OFFENSE_DESCRIPTION.apply(lambda x: 'PubDrink'  in x))]"
   ]
  },
  {
   "cell_type": "code",
   "execution_count": 19,
   "metadata": {
    "collapsed": false
   },
   "outputs": [],
   "source": [
    "# df8=df7.groupby('DAY_OF_WEEK').INCIDENT_NUM.count()\n",
    "# df8=df8.reset_index(drop=False)\n",
    "# #df4=df4.sort_values(by='DAY_OF_WEEK',ascending=True)\n",
    "# df8=df8.ix[(1,5,6,4,0,2,3),:]\n",
    "# df8.head(7)"
   ]
  },
  {
   "cell_type": "code",
   "execution_count": 20,
   "metadata": {
    "collapsed": true
   },
   "outputs": [],
   "source": [
    "# df9=df1[(df1.OFFENSE_DESCRIPTION.apply(lambda x: 'VANDALISM'  in x))]"
   ]
  },
  {
   "cell_type": "code",
   "execution_count": 21,
   "metadata": {
    "collapsed": false
   },
   "outputs": [],
   "source": [
    "# df10=df9.groupby('DAY_OF_WEEK').INCIDENT_NUM.count()\n",
    "# df10=df10.reset_index(drop=False)\n",
    "# #df4=df4.sort_values(by='DAY_OF_WEEK',ascending=True)\n",
    "# df10=df10.ix[(1,5,6,4,0,2,3),:]\n",
    "# df10.head(7)"
   ]
  },
  {
   "cell_type": "code",
   "execution_count": null,
   "metadata": {
    "collapsed": true
   },
   "outputs": [],
   "source": []
  }
 ],
 "metadata": {
  "anaconda-cloud": {},
  "kernelspec": {
   "display_name": "Python [conda env:eq_env]",
   "language": "python",
   "name": "conda-env-eq_env-py"
  },
  "language_info": {
   "codemirror_mode": {
    "name": "ipython",
    "version": 3
   },
   "file_extension": ".py",
   "mimetype": "text/x-python",
   "name": "python",
   "nbconvert_exporter": "python",
   "pygments_lexer": "ipython3",
   "version": "3.6.1"
  }
 },
 "nbformat": 4,
 "nbformat_minor": 1
}
