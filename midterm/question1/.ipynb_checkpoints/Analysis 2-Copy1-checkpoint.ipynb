{
 "cells": [
  {
   "cell_type": "markdown",
   "metadata": {},
   "source": [
    "# Question 1 Analysis-2\n",
    "- Find the top 10 words of CEO Jeffery Skilling: "
   ]
  },
  {
   "cell_type": "code",
   "execution_count": 1,
   "metadata": {
    "collapsed": true
   },
   "outputs": [],
   "source": [
    "path = '/Users/rajusingh/midterm1/data/enron/maildir/skilling-j/' "
   ]
  },
  {
   "cell_type": "code",
   "execution_count": 2,
   "metadata": {
    "collapsed": false
   },
   "outputs": [],
   "source": [
    "import os\n",
    "dirc= os.walk(path)\n",
    "k=[x[0] for x in dirc]"
   ]
  },
  {
   "cell_type": "code",
   "execution_count": 3,
   "metadata": {
    "collapsed": true
   },
   "outputs": [],
   "source": [
    "def files(path):\n",
    "    for file in os.listdir(path):\n",
    "        if not file.startswith('.'):\n",
    "            if os.path.isfile(os.path.join(path, file)):\n",
    "                yield file"
   ]
  },
  {
   "cell_type": "code",
   "execution_count": 4,
   "metadata": {
    "collapsed": true
   },
   "outputs": [],
   "source": [
    "wholelist =[]\n",
    "for x in k:\n",
    "    h=files(x)\n",
    "    j=[x+'/'+y for y in h]\n",
    "    wholelist.append(j)\n",
    "#wholelist[:20]"
   ]
  },
  {
   "cell_type": "code",
   "execution_count": 5,
   "metadata": {
    "collapsed": false
   },
   "outputs": [],
   "source": [
    "flatten = lambda x: [item for sublist in x for item in sublist]\n",
    "sss=flatten(wholelist)\n",
    "sss=sss[:]\n",
    "# print(len(sss))"
   ]
  },
  {
   "cell_type": "code",
   "execution_count": 6,
   "metadata": {
    "collapsed": false,
    "scrolled": false
   },
   "outputs": [],
   "source": [
    "from email.parser import Parser\n",
    "from nltk.tokenize import sent_tokenize, word_tokenize\n",
    "import email\n",
    "mailTodic ={}\n",
    "mailTo = []\n",
    "\n",
    "for x in sss:\n",
    "    with open(x,'r',encoding='utf-8', errors = 'ignore') as f:\n",
    "        n=f.read()\n",
    "        email = Parser().parsestr(n)\n",
    "        econtent=word_tokenize(str(email))\n",
    "econtent_low=[]\n",
    "for y in econtent:\n",
    "    s=y.lower()\n",
    "    econtent_low.append(s)   "
   ]
  },
  {
   "cell_type": "code",
   "execution_count": 7,
   "metadata": {
    "collapsed": true
   },
   "outputs": [],
   "source": [
    "from nltk.corpus import stopwords\n",
    "mail_filtered_stopwords = [word for word in econtent_low if word not in stopwords.words('english')]"
   ]
  },
  {
   "cell_type": "code",
   "execution_count": 8,
   "metadata": {
    "collapsed": false
   },
   "outputs": [],
   "source": [
    "import re  #import reg expression\n",
    "nonPunct = re.compile('.*[A-Za-z].*')  # filter out punctutations and only contain letters\n",
    "mail_filtered_punct = [w for w in mail_filtered_stopwords if nonPunct.match(w)]"
   ]
  },
  {
   "cell_type": "code",
   "execution_count": 12,
   "metadata": {
    "collapsed": false
   },
   "outputs": [],
   "source": [
    "mailContentdic ={}\n",
    "for p in mail_filtered_punct:\n",
    "    if (p not in mailContentdic):\n",
    "        mailContentdic[p] = 1\n",
    "    else:\n",
    "        mailContentdic[p] += 1"
   ]
  },
  {
   "cell_type": "code",
   "execution_count": 13,
   "metadata": {
    "collapsed": false
   },
   "outputs": [
    {
     "name": "stdout",
     "output_type": "stream",
     "text": [
      "Analysis of file:\n",
      "\n",
      "\n",
      "Top 10 words in the CEO email are:\n",
      "morgangroup.com\n",
      "morgan\n",
      "diego\n",
      "san\n",
      "jeff\n",
      "enron\n",
      "ronnie\n",
      "chapter\n",
      "michaelm\n",
      "enron.com\n"
     ]
    }
   ],
   "source": [
    "print(\"Analysis of file:\")\n",
    "print('\\n')\n",
    "print(\"Top 10 words in the CEO email are:\")\n",
    "mailContentdic=sorted(mailContentdic, key=mailContentdic.get, reverse=True)[:10]\n",
    "for x in mailContentdic:\n",
    "    print(x)"
   ]
  },
  {
   "cell_type": "code",
   "execution_count": null,
   "metadata": {
    "collapsed": true
   },
   "outputs": [],
   "source": []
  }
 ],
 "metadata": {
  "anaconda-cloud": {},
  "kernelspec": {
   "display_name": "Python [conda root]",
   "language": "python",
   "name": "conda-root-py"
  },
  "language_info": {
   "codemirror_mode": {
    "name": "ipython",
    "version": 3
   },
   "file_extension": ".py",
   "mimetype": "text/x-python",
   "name": "python",
   "nbconvert_exporter": "python",
   "pygments_lexer": "ipython3",
   "version": "3.5.2"
  }
 },
 "nbformat": 4,
 "nbformat_minor": 1
}
