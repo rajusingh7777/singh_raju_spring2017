{
 "cells": [
  {
   "cell_type": "markdown",
   "metadata": {},
   "source": [
    "# Question 1 Analysis-1\n",
    "- Finding CEO Jeff Skilling getting most mail from and sent-to."
   ]
  },
  {
   "cell_type": "code",
   "execution_count": 1,
   "metadata": {
    "collapsed": true
   },
   "outputs": [],
   "source": [
    "path = '/Users/rajusingh/midterm1/data/enron/maildir/skilling-j/' "
   ]
  },
  {
   "cell_type": "code",
   "execution_count": 2,
   "metadata": {
    "collapsed": false
   },
   "outputs": [],
   "source": [
    "import os\n",
    "dirc= os.walk(path)\n",
    "k=[x[0] for x in dirc]"
   ]
  },
  {
   "cell_type": "code",
   "execution_count": 3,
   "metadata": {
    "collapsed": true
   },
   "outputs": [],
   "source": [
    "def files(path):\n",
    "    for file in os.listdir(path):\n",
    "        if not file.startswith('.'):\n",
    "            if os.path.isfile(os.path.join(path, file)):\n",
    "                yield file"
   ]
  },
  {
   "cell_type": "code",
   "execution_count": 4,
   "metadata": {
    "collapsed": true
   },
   "outputs": [],
   "source": [
    "wholelist =[]\n",
    "for x in k:\n",
    "    h=files(x)\n",
    "    j=[x+'/'+y for y in h]\n",
    "    wholelist.append(j)\n",
    "#wholelist[:20]"
   ]
  },
  {
   "cell_type": "code",
   "execution_count": 5,
   "metadata": {
    "collapsed": false
   },
   "outputs": [],
   "source": [
    "flatten = lambda x: [item for sublist in x for item in sublist]\n",
    "sss=flatten(wholelist)\n",
    "# sss=sss[:500]\n",
    "# print(len(sss))"
   ]
  },
  {
   "cell_type": "code",
   "execution_count": 6,
   "metadata": {
    "collapsed": false,
    "scrolled": false
   },
   "outputs": [
    {
     "data": {
      "text/plain": [
       "['jeff.skilling@enron.com',\n",
       " None,\n",
       " 'smu-betas@yahoogroups.com',\n",
       " 'jskilli@enron.com',\n",
       " 'markskilling@hotmail.com',\n",
       " 'jeff.skilling@enron.com, etblaw@aol.com, gbsmith@smith-graham.com, \\n\\trcampos@eldoradocorp.com, shirley.h.tapscott@uth.tmc.edu']"
      ]
     },
     "execution_count": 6,
     "metadata": {},
     "output_type": "execute_result"
    }
   ],
   "source": [
    "from email.parser import Parser \n",
    "mailTodic ={}\n",
    "mailTo = []\n",
    "for x in sss:\n",
    "    with open(x,'r',encoding='utf-8', errors = 'ignore') as f:\n",
    "        #xx=os.path.join(x,'.txt')\n",
    "        n=f.read()\n",
    "        email = Parser().parsestr(n)\n",
    "        person=email['To']\n",
    "        mailTo.append(person)\n",
    "\n",
    "        for p in mailTo:\n",
    "            if (p not in mailTodic):\n",
    "                mailTodic[p] = 1\n",
    "            else:\n",
    "                mailTodic[p] += 1\n",
    "\n",
    "mailTodic=sorted(mailTodic, key=mailTodic.get, reverse=True)[:6]        \n",
    "mailTodic"
   ]
  },
  {
   "cell_type": "code",
   "execution_count": 7,
   "metadata": {
    "collapsed": false
   },
   "outputs": [
    {
     "data": {
      "text/plain": [
       "['sherri.sera@enron.com',\n",
       " 'joannie.williamson@enron.com',\n",
       " 'markskilling@hotmail.com',\n",
       " '40enron@enron.com',\n",
       " 'fredinvt@juno.com']"
      ]
     },
     "execution_count": 7,
     "metadata": {},
     "output_type": "execute_result"
    }
   ],
   "source": [
    "from email.parser import Parser \n",
    "mailFromdic ={}\n",
    "mailFrom = []\n",
    "for x in sss:\n",
    "    with open(x,'r',encoding='utf-8', errors = 'ignore') as f:\n",
    "        #xx=os.path.join(x,'.txt')\n",
    "        n=f.read()\n",
    "        email = Parser().parsestr(n)\n",
    "        person=email['From']\n",
    "        mailFrom.append(person)\n",
    "\n",
    "        for p in mailFrom:\n",
    "            if (p not in mailFromdic):\n",
    "                mailFromdic[p] = 1\n",
    "            else:\n",
    "                mailFromdic[p] += 1\n",
    "\n",
    "mailFromdic=sorted(mailFromdic, key=mailFromdic.get, reverse=True)[:5]        \n",
    "mailFromdic"
   ]
  },
  {
   "cell_type": "code",
   "execution_count": 8,
   "metadata": {
    "collapsed": false
   },
   "outputs": [
    {
     "name": "stdout",
     "output_type": "stream",
     "text": [
      "Analaysis-1 result\n",
      "\n",
      "\n",
      "Top email sent by CEO Jeffery Skilling:\n",
      "---------------------------------------\n",
      "jeff.skilling@enron.com\n",
      "None\n",
      "smu-betas@yahoogroups.com\n",
      "jskilli@enron.com\n",
      "markskilling@hotmail.com\n",
      "jeff.skilling@enron.com, etblaw@aol.com, gbsmith@smith-graham.com, \n",
      "\trcampos@eldoradocorp.com, shirley.h.tapscott@uth.tmc.edu\n",
      "\n",
      "\n",
      "Top email recieved to CEO Jeffery Skilling:\n",
      "-------------------------------------------\n",
      "sherri.sera@enron.com\n",
      "joannie.williamson@enron.com\n",
      "markskilling@hotmail.com\n",
      "40enron@enron.com\n",
      "fredinvt@juno.com\n"
     ]
    }
   ],
   "source": [
    "print(\"Analaysis-1 result\")\n",
    "print('\\n')\n",
    "print(\"Top email sent by CEO Jeffery Skilling:\")\n",
    "print(len('Top email sent by CEO Jeffery Skilling:')*'-')\n",
    "for x in mailTodic:\n",
    "    print(x)\n",
    "print('\\n')\n",
    "print(\"Top email recieved to CEO Jeffery Skilling:\")\n",
    "print(len('Top email recieved to CEO Jeffery Skilling:')*'-')\n",
    "for x in mailFromdic:\n",
    "    print(x)"
   ]
  },
  {
   "cell_type": "code",
   "execution_count": null,
   "metadata": {
    "collapsed": true
   },
   "outputs": [],
   "source": []
  }
 ],
 "metadata": {
  "anaconda-cloud": {},
  "kernelspec": {
   "display_name": "Python [conda root]",
   "language": "python",
   "name": "conda-root-py"
  },
  "language_info": {
   "codemirror_mode": {
    "name": "ipython",
    "version": 3
   },
   "file_extension": ".py",
   "mimetype": "text/x-python",
   "name": "python",
   "nbconvert_exporter": "python",
   "pygments_lexer": "ipython3",
   "version": "3.5.2"
  }
 },
 "nbformat": 4,
 "nbformat_minor": 1
}
