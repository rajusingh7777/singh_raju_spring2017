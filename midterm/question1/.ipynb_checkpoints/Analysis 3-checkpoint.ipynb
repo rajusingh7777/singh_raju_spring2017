{
 "cells": [
  {
   "cell_type": "markdown",
   "metadata": {},
   "source": [
    "# Question 1 Analysis-3\n",
    "- Finding the number of mails dropped on each days of given sample data."
   ]
  },
  {
   "cell_type": "code",
   "execution_count": 1,
   "metadata": {
    "collapsed": true
   },
   "outputs": [],
   "source": [
    "path = '/Users/rajusingh/midterm1/data/enron/maildir/' "
   ]
  },
  {
   "cell_type": "code",
   "execution_count": 2,
   "metadata": {
    "collapsed": false
   },
   "outputs": [],
   "source": [
    "import os\n",
    "dirc= os.walk(path)\n",
    "k=[x[0] for x in dirc]"
   ]
  },
  {
   "cell_type": "code",
   "execution_count": 3,
   "metadata": {
    "collapsed": true
   },
   "outputs": [],
   "source": [
    "def files(path):\n",
    "    for file in os.listdir(path):\n",
    "        if not file.startswith('.'):\n",
    "            if os.path.isfile(os.path.join(path, file)):\n",
    "                yield file"
   ]
  },
  {
   "cell_type": "code",
   "execution_count": 4,
   "metadata": {
    "collapsed": true
   },
   "outputs": [],
   "source": [
    "wholelist =[]\n",
    "for x in k:\n",
    "    h=files(x)\n",
    "    j=[x+'/'+y for y in h]\n",
    "    wholelist.append(j)\n",
    "#wholelist[:20]"
   ]
  },
  {
   "cell_type": "code",
   "execution_count": 5,
   "metadata": {
    "collapsed": false
   },
   "outputs": [],
   "source": [
    "flatten = lambda x: [item for sublist in x for item in sublist]\n",
    "sss=flatten(wholelist)\n",
    "sss=sss[:5000]"
   ]
  },
  {
   "cell_type": "code",
   "execution_count": 6,
   "metadata": {
    "collapsed": false
   },
   "outputs": [],
   "source": [
    "from email.parser import Parser "
   ]
  },
  {
   "cell_type": "code",
   "execution_count": 7,
   "metadata": {
    "collapsed": false
   },
   "outputs": [],
   "source": [
    "from nltk.tokenize import sent_tokenize, word_tokenize\n",
    "allmailcontent=[]\n",
    "for x in sss:\n",
    "    with open(x,'r',encoding='utf-8', errors = 'ignore') as f:\n",
    "        n=f.read()\n",
    "        email = Parser().parsestr(n)\n",
    "        s=email['Date']\n",
    "        mailcontent=word_tokenize(str(s))\n",
    "        allmailcontent.append(mailcontent)\n",
    "allmailcontent\n",
    "\n",
    "#to flattern the list of list\n",
    "flatten = lambda x: [item for sublist in x for item in sublist]\n",
    "allmailcontent=flatten(allmailcontent)"
   ]
  },
  {
   "cell_type": "code",
   "execution_count": 8,
   "metadata": {
    "collapsed": false
   },
   "outputs": [
    {
     "name": "stdout",
     "output_type": "stream",
     "text": [
      "Of sample size of 5000 mails, we found that-\n",
      "1. Mail sent by enron employees on Mon: 1089\n",
      "2. Mail sent by enron employees on Tue: 1040\n",
      "3. Mail sent by enron employees on Wed: 1035\n",
      "4. Mail sent by enron employees on Thu: 893\n",
      "5. Mail sent by enron employees on Fri: 763\n",
      "6. Mail sent by enron employees on Sat: 74\n",
      "7. Mail sent by enron employees on Sun: 106\n"
     ]
    }
   ],
   "source": [
    "m,n,o,p,q,r,s=0,0,0,0,0,0,0\n",
    "for word in allmailcontent:\n",
    "    if word =='Mon':\n",
    "        m+=1\n",
    "    if word =='Tue':\n",
    "        n+=1\n",
    "    if word =='Wed':\n",
    "        o+=1\n",
    "    if word =='Thu':\n",
    "        p+=1    \n",
    "    if word =='Fri':\n",
    "        q+=1\n",
    "    if word =='Sat':\n",
    "        r+=1\n",
    "    if word =='Sun':\n",
    "        s+=1\n",
    "print(\"Of sample size of 5000 mails, we found that-\")\n",
    "print(\"1. Mail sent by enron employees on Mon:\", m)\n",
    "print(\"2. Mail sent by enron employees on Tue:\", n)\n",
    "print(\"3. Mail sent by enron employees on Wed:\", o)\n",
    "print(\"4. Mail sent by enron employees on Thu:\", p)\n",
    "print(\"5. Mail sent by enron employees on Fri:\", q)\n",
    "print(\"6. Mail sent by enron employees on Sat:\", r)\n",
    "print(\"7. Mail sent by enron employees on Sun:\", s)"
   ]
  },
  {
   "cell_type": "markdown",
   "metadata": {},
   "source": [
    "# Conclusion \n",
    "\n",
    "- Invetigation can be start with mails dropped on Sunday which would be unusal in US work culture"
   ]
  }
 ],
 "metadata": {
  "anaconda-cloud": {},
  "kernelspec": {
   "display_name": "Python [conda root]",
   "language": "python",
   "name": "conda-root-py"
  },
  "language_info": {
   "codemirror_mode": {
    "name": "ipython",
    "version": 3
   },
   "file_extension": ".py",
   "mimetype": "text/x-python",
   "name": "python",
   "nbconvert_exporter": "python",
   "pygments_lexer": "ipython3",
   "version": "3.5.2"
  }
 },
 "nbformat": 4,
 "nbformat_minor": 1
}
