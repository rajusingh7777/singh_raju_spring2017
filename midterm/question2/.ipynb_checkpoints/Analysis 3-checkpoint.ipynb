{
 "cells": [
  {
   "cell_type": "markdown",
   "metadata": {},
   "source": [
    "# Question 2 Analysis-3\n",
    "- Finding top coverge given by New York Time with respect to the sports category"
   ]
  },
  {
   "cell_type": "code",
   "execution_count": 1,
   "metadata": {
    "collapsed": false
   },
   "outputs": [],
   "source": [
    "import os\n",
    "article_api_key=os.getenv('Article_Search_API')"
   ]
  },
  {
   "cell_type": "code",
   "execution_count": 2,
   "metadata": {
    "collapsed": true
   },
   "outputs": [],
   "source": [
    "def download_file(url):\n",
    "    local_filename = url.split('/')[-1]\n",
    "    r = requests.get(url, stream=True)\n",
    "    with open(local_filename, 'wb') as f:\n",
    "        for chunk in r.iter_content(chunk_size=1024): \n",
    "            if chunk: # filter out keep-alive new chunks\n",
    "                f.write(chunk)\n",
    "    return local_filename"
   ]
  },
  {
   "cell_type": "code",
   "execution_count": 3,
   "metadata": {
    "collapsed": true
   },
   "outputs": [],
   "source": [
    "def convert(input):\n",
    "    if isinstance(input, dict):\n",
    "        return {convert(key): convert(value) for key, value in input.items()}\n",
    "    elif isinstance(input, list):\n",
    "        return [convert(element) for element in input]\n",
    "    else:\n",
    "        return input"
   ]
  },
  {
   "cell_type": "code",
   "execution_count": 4,
   "metadata": {
    "collapsed": false
   },
   "outputs": [],
   "source": [
    "import requests\n",
    "import json\n",
    "import datetime\n",
    "import time\n",
    "import sys\n",
    "import urllib\n",
    "import urllib.error\n",
    "import logging\n",
    "from urllib.error import HTTPError\n",
    "def getArticles(query,date,api_key, json_file_path):\n",
    "    # Take one page of NYTIMES for given date\n",
    "    for page in range(1):\n",
    "#         try:\n",
    "        requested_string = \"http://api.nytimes.com/svc/search/v2/articlesearch.json?q=\"+ query+ \"&begin_date=\" + date + \"&end_date=\" + date + \"&page=\" + str(page) + \"&api-key=\" + api_key\n",
    "        response = requests.get(requested_string) #urlopen(request_string)\n",
    "        #print(type(response))\n",
    "        #content = response.read().decode('utf-8')\n",
    "        content = response.content.decode(\"utf-8\")\n",
    "        #print(content)\n",
    "        if content:\n",
    "            #print(content)\n",
    "            #r = json.loads(content)\n",
    "            #print(r)\n",
    "            articles = convert(json.loads(content))\n",
    "            # if there are articles here\n",
    "            #r = content[\"response\"]\n",
    "            #print(r)\n",
    "            if len(articles[\"response\"][\"docs\"]) >= 1:\n",
    "                #print(\"entering\")\n",
    "                json_file_name = getJsonFileName(query,date,page, json_file_path)\n",
    "                json_file = open(json_file_name, 'w')\n",
    "                json_file.write(content)\n",
    "                json_file.close()\n",
    "        time.sleep(3)\n",
    "        continue"
   ]
  },
  {
   "cell_type": "code",
   "execution_count": 5,
   "metadata": {
    "collapsed": false
   },
   "outputs": [],
   "source": [
    "# helper function to iterate through dates\n",
    "def daterange( start_date, end_date ):\n",
    "    if start_date <= end_date:\n",
    "        for n in range( ( end_date - start_date ).days + 1 ):\n",
    "            yield start_date + datetime.timedelta( n )\n",
    "    else:\n",
    "        for n in range( ( start_date - end_date ).days + 1 ):\n",
    "            yield start_date - datetime.timedelta( n )"
   ]
  },
  {
   "cell_type": "code",
   "execution_count": 6,
   "metadata": {
    "collapsed": true
   },
   "outputs": [],
   "source": [
    "fulldate=datetime.datetime.now()\n",
    "def getJsonFileName(query,date, page, json_file_path):\n",
    "    json_file_name = \".\".join([query,date,str(page),'@',str(fulldate),'json'])\n",
    "    json_file_name = \"\".join([json_file_path,'/',json_file_name])\n",
    "    return json_file_name"
   ]
  },
  {
   "cell_type": "code",
   "execution_count": 7,
   "metadata": {
    "collapsed": false
   },
   "outputs": [],
   "source": [
    "def storeData():\n",
    "    json_file_path = '/Users/rajusingh/midterm/Data/question2/Sports/'\n",
    "    query =  'Sports'\n",
    "    #July 21 & July 28 — Trump & Clinton formally accepts the respec. nomination. Date taken from 1Aug till 7 Nov before elction\n",
    "    \n",
    "    api_key = article_api_key    \n",
    "    start = datetime.date( year = 2016, month = 8, day = 1 )\n",
    "    end = datetime.date( year = 2017, month = 2, day = 28 )\n",
    "    log_file = \"\".join([json_file_path,'/',\"getTimesArticles_testing.log\"])\n",
    " \n",
    "    logging.info(\"Getting started.\") \n",
    "    for date in daterange( start, end ):\n",
    "        date = date.strftime(\"%Y%m%d\")\n",
    "        logging.info(\"Working on %s.\" % date)\n",
    "        getArticles(query,date,api_key,json_file_path)"
   ]
  },
  {
   "cell_type": "code",
   "execution_count": null,
   "metadata": {
    "collapsed": false
   },
   "outputs": [],
   "source": [
    "storeData()  #call the function"
   ]
  },
  {
   "cell_type": "code",
   "execution_count": 1,
   "metadata": {
    "collapsed": false
   },
   "outputs": [],
   "source": [
    "#Analysis 3 of Data\n",
    "\n",
    "import glob\n",
    "dataPath = '/Users/rajusingh/midterm/Data/question2/Sports/*.json'\n",
    "data=glob.glob(dataPath)  #path read"
   ]
  },
  {
   "cell_type": "code",
   "execution_count": 35,
   "metadata": {
    "collapsed": false
   },
   "outputs": [],
   "source": [
    "sportslist=['soccer','tennis','baseball','basketball','football','hockey']"
   ]
  },
  {
   "cell_type": "code",
   "execution_count": 36,
   "metadata": {
    "collapsed": false
   },
   "outputs": [],
   "source": [
    "#Number of news bytes Hilary and Trump received post their nomination till election date:\n",
    "import json\n",
    "import glob\n",
    "import os\n",
    "import nltk\n",
    "from nltk.tokenize import sent_tokenize, word_tokenize\n",
    "from nltk import FreqDist\n",
    "\n",
    "\n",
    "wordslist =[]\n",
    "\n",
    "for file in data:\n",
    "    with open(file) as data_file: # file is read   \n",
    "        data1 = json.load(data_file) #load json file\n",
    "        justwords = word_tokenize(str(data1))# tokenizer \n",
    "        for words in justwords:\n",
    "            words=words.lower()\n",
    "            wordslist.append(words)"
   ]
  },
  {
   "cell_type": "code",
   "execution_count": 37,
   "metadata": {
    "collapsed": true
   },
   "outputs": [],
   "source": [
    "wordslist = [word for word in wordslist if word in sportslist]"
   ]
  },
  {
   "cell_type": "code",
   "execution_count": 40,
   "metadata": {
    "collapsed": false
   },
   "outputs": [
    {
     "data": {
      "text/plain": [
       "{'baseball': 116,\n",
       " 'basketball': 223,\n",
       " 'football': 551,\n",
       " 'hockey': 63,\n",
       " 'soccer': 364,\n",
       " 'tennis': 65}"
      ]
     },
     "execution_count": 40,
     "metadata": {},
     "output_type": "execute_result"
    }
   ],
   "source": [
    "topSports={}\n",
    "for x in wordslist:\n",
    "    if (x not in topSports):\n",
    "        topSports[x] = 1\n",
    "    else:\n",
    "        topSports[x] += 1\n",
    "topSports"
   ]
  },
  {
   "cell_type": "code",
   "execution_count": 41,
   "metadata": {
    "collapsed": false
   },
   "outputs": [
    {
     "name": "stdout",
     "output_type": "stream",
     "text": [
      "Analysis of file:\n",
      "\n",
      "\n",
      "Top sports covered in last 6 months in US, down the order:\n",
      "football\n",
      "soccer\n",
      "basketball\n",
      "baseball\n",
      "tennis\n"
     ]
    }
   ],
   "source": [
    "print(\"Analysis of file:\")\n",
    "print('\\n')\n",
    "print(\"Top sports covered in last 6 months in US, down the order:\")\n",
    "topSports=sorted(topSports, key=topSports.get, reverse=True)[:5]\n",
    "for x in topSports:\n",
    "    print(x)"
   ]
  }
 ],
 "metadata": {
  "anaconda-cloud": {},
  "kernelspec": {
   "display_name": "Python [conda root]",
   "language": "python",
   "name": "conda-root-py"
  },
  "language_info": {
   "codemirror_mode": {
    "name": "ipython",
    "version": 3
   },
   "file_extension": ".py",
   "mimetype": "text/x-python",
   "name": "python",
   "nbconvert_exporter": "python",
   "pygments_lexer": "ipython3",
   "version": "3.5.2"
  }
 },
 "nbformat": 4,
 "nbformat_minor": 1
}
