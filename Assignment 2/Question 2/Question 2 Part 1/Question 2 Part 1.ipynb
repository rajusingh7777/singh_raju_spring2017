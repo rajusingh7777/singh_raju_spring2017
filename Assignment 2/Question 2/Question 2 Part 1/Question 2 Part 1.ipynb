{
 "cells": [
  {
   "cell_type": "markdown",
   "metadata": {},
   "source": [
    "# Question 2 Part 1\n",
    "- Read all the json files in the folder called Data.\n",
    "- There are three categories of json files in this folder. They are identified by the key called “term” in each of the json file.\n",
    "- Create a folder structure to read all these json files and store them into these separate folders.\n",
    "- You are expected to create a hierarchy of folder structure.\n",
    "\n",
    "- Example:\n",
    "- You can place all restaurants json files in a particular country (say Australia) in the same folder. How you group the json files and create a folder structure is your choice. Your task is to identify criteria by which you can group all these json files and store them.(You could use these keys to create hierarchy and store json files: Country, city, categories)"
   ]
  },
  {
   "cell_type": "code",
   "execution_count": 1,
   "metadata": {
    "collapsed": false
   },
   "outputs": [],
   "source": [
    "path = '/Users/rajusingh/Data/*.json'  # path where data is originally placed"
   ]
  },
  {
   "cell_type": "code",
   "execution_count": 2,
   "metadata": {
    "collapsed": false
   },
   "outputs": [],
   "source": [
    "# create function for country wise hierarchy\n",
    "import json\n",
    "import glob\n",
    "import os\n",
    "from pprint import pprint\n",
    "\n",
    "def countryHierarchy(path):  #passing original path\n",
    "    data=glob.glob(path)  #path read\n",
    "    countryPath=[]   #a new list is created to store all country path of a country\n",
    "    for file in data:\n",
    "        with open(file) as data_file: # file is read   \n",
    "            data1 = json.load(data_file) #load json file\n",
    "            for k,v in data1.items(): # iterate over to catch country in json file\n",
    "                if k == 'location':\n",
    "                    a=v.get('country')       \n",
    "                    newpath = 'Data Processed'\n",
    "                    s=os.path.join(newpath,a) \n",
    "                    if not os.path.exists(s): #if dir not exist it creates\n",
    "                        os.makedirs(s)\n",
    "                    p=os.rename(file, os.path.join(newpath,a,file.split('/')[-1])) #move files from orig to new path\n",
    "                    if s not in countryPath:\n",
    "                        countryPath.append(s)\n",
    "    return countryPath # return country folder path"
   ]
  },
  {
   "cell_type": "code",
   "execution_count": 3,
   "metadata": {
    "collapsed": false
   },
   "outputs": [],
   "source": [
    "# create function for state wise hierarchy\n",
    "def stateHierarchy(path): \n",
    "    pathappd=os.path.join(path,'*.json') \n",
    "    data=glob.glob(pathappd) \n",
    "    statePath=[]   #a new list is created to store all states path of a country\n",
    "    for file in data:\n",
    "        with open(file) as data_file:    \n",
    "            data1 = json.load(data_file)\n",
    "            for k,v in data1.items():\n",
    "                if k == 'location':  # iterate over to catch state in json file\n",
    "                    a=v.get('state')       \n",
    "                    newpath = path\n",
    "                    s=os.path.join(newpath,a)\n",
    "                    if s not in statePath:\n",
    "                        statePath.append(s)\n",
    "                    if not os.path.exists(s):\n",
    "                        os.makedirs(s)\n",
    "                    os.rename(file, os.path.join(newpath,a,file.split('/')[-1]))                    \n",
    "    return statePath  # return state folder which is inside country path"
   ]
  },
  {
   "cell_type": "code",
   "execution_count": 4,
   "metadata": {
    "collapsed": true
   },
   "outputs": [],
   "source": [
    "# create function for city wise hierarchy\n",
    "def cityHierarchy(path): \n",
    "    #global s\n",
    "    pathappd=os.path.join(path,'*.json')\n",
    "    data=glob.glob(pathappd)\n",
    "    cityPath=[]\n",
    "    for file in data:\n",
    "        with open(file) as data_file:    \n",
    "            data1 = json.load(data_file)\n",
    "            for k,v in data1.items():\n",
    "                if k == 'location': # iterate over to catch city in json file\n",
    "                    a=v.get('city')       \n",
    "                    newpath = path\n",
    "                    s=os.path.join(newpath,a)\n",
    "                    if s not in cityPath:\n",
    "                        cityPath.append(s)\n",
    "                    if not os.path.exists(s):\n",
    "                        os.makedirs(s)\n",
    "                    os.rename(file, os.path.join(newpath,a,file.split('/')[-1]))                    \n",
    "    return cityPath # returns city folder which is inside state path"
   ]
  },
  {
   "cell_type": "code",
   "execution_count": 5,
   "metadata": {
    "collapsed": false
   },
   "outputs": [],
   "source": [
    "# create function for lowest level hierarchy\n",
    "def lowestHierarchy(path):\n",
    "    pathAppd=os.path.join(path,'*.json')\n",
    "    data=glob.glob(pathAppd)\n",
    "    for file in data:\n",
    "        with open(file) as data_file:    \n",
    "            data1 = json.load(data_file)\n",
    "            for k,v in data1.items(): # iterate over to catch all value of term to group all json file in restu, hotel,attraction\n",
    "                if k == 'term':   \n",
    "                    newpath = path\n",
    "                    s=os.path.join(newpath,v)\n",
    "                    if not os.path.exists(s):\n",
    "                        os.makedirs(s)\n",
    "                    os.rename(file, os.path.join(newpath,v,file.split('/')[-1]))"
   ]
  },
  {
   "cell_type": "code",
   "execution_count": 6,
   "metadata": {
    "collapsed": false
   },
   "outputs": [],
   "source": [
    "#calling lowest hierarchy func in city func, city in state funct and state in country func\n",
    "for x in countryHierarchy(path):  #passing original path\n",
    "    for y in stateHierarchy(x):   #passing country path as argument in state func\n",
    "        for z in cityHierarchy(y): #passing state path as argument in city func\n",
    "            lowestHierarchy(z)     #passing city path as argument in lowest func"
   ]
  }
 ],
 "metadata": {
  "anaconda-cloud": {},
  "kernelspec": {
   "display_name": "Python [conda root]",
   "language": "python",
   "name": "conda-root-py"
  },
  "language_info": {
   "codemirror_mode": {
    "name": "ipython",
    "version": 3
   },
   "file_extension": ".py",
   "mimetype": "text/x-python",
   "name": "python",
   "nbconvert_exporter": "python",
   "pygments_lexer": "ipython3",
   "version": "3.5.2"
  }
 },
 "nbformat": 4,
 "nbformat_minor": 1
}
