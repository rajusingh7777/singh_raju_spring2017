{
 "cells": [
  {
   "cell_type": "markdown",
   "metadata": {},
   "source": [
    "# Question 2 Part 2\n",
    "- Read all the jsonfiles in the folder called Data.\n",
    "- Read only the jsonfiles which contain the key called “restaurants”\n",
    "- Each (or most of the jsonfiles) contain a key called “open” which contains the details of the operation (timings) of the restaurants. For each jsonfile, read the timings of the restaurants. \n",
    "- Data of the operation timings of the restaurants is present for each day of the week. I want you to extract each of this data and write it in an excel sheet."
   ]
  },
  {
   "cell_type": "code",
   "execution_count": 1,
   "metadata": {
    "collapsed": true
   },
   "outputs": [],
   "source": [
    "path = '/Users/rajusingh/Data/*.json'  # path where data is originally placed"
   ]
  },
  {
   "cell_type": "code",
   "execution_count": 2,
   "metadata": {
    "collapsed": false
   },
   "outputs": [],
   "source": [
    "import csv\n",
    "import operator\n",
    "def csvCreated(listOfRest,fileName): #filename and its dictionary are passed as argument to generate graph and csv for each files\n",
    "    with open(fileName+('.csv'), 'w') as csvfile: # write cvs file with all headers\n",
    "        fieldnames = ['Name of restaurant','City','Country Code','Day of the week','Start Time Hour','Start Time Minute','End Time Hour','End Time Minute']\n",
    "        writer = csv.DictWriter(csvfile, fieldnames=fieldnames)\n",
    "        writer.writeheader()\n",
    "        for x in listOfRest: #assigning values to each headers\n",
    "            with open(x) as data_file:    \n",
    "                data = json.load(data_file)\n",
    "                hr = data.get('hours')\n",
    "                a, b, c, d, e, f, g, h ='','','','','','','',''  # variables created\n",
    "                if not hr:   # to check if list hr is not empty\n",
    "                    pass     # if empty it do nothing and simply pass by\n",
    "                else:\n",
    "                    for p in hr:                  \n",
    "                        for q in p.get('open'):\n",
    "                            a = data.get('name')\n",
    "                            b = data.get('location').get('city')\n",
    "                            c = data.get('location').get('country')\n",
    "                            d = q.get('day')\n",
    "                            e = q.get('start')[:2]\n",
    "                            f = q.get('start')[-2:]\n",
    "                            g = q.get('end')[:2]\n",
    "                            h = q.get('end')[-2:]\n",
    "\n",
    "                            writer.writerow({'Name of restaurant': a, 'City': b, 'Country Code': c, 'Day of the week': d, 'Start Time Hour': e, 'Start Time Minute': f, 'End Time Hour': g, 'End Time Minute': h})\n"
   ]
  },
  {
   "cell_type": "code",
   "execution_count": 3,
   "metadata": {
    "collapsed": true
   },
   "outputs": [],
   "source": [
    "# create function to capture all json file which has term = restaurant\n",
    "import json\n",
    "import glob\n",
    "import os\n",
    "from pprint import pprint\n",
    "\n",
    "def allRestaurants(path):\n",
    "    #pathAppd=os.path.join(path,'*.json')\n",
    "    data=glob.glob(path)\n",
    "    restaurants=[]\n",
    "    for file in data:       \n",
    "        with open(file) as data_file:    \n",
    "            data1 = json.load(data_file)\n",
    "            for k,v in data1.items():\n",
    "                if k == 'term':\n",
    "                    if v == 'restaurants':\n",
    "                        restaurants.append(file)\n",
    "    return restaurants  #return all restaurants"
   ]
  },
  {
   "cell_type": "code",
   "execution_count": 4,
   "metadata": {
    "collapsed": false
   },
   "outputs": [],
   "source": [
    "listOfRest=allRestaurants(path)"
   ]
  },
  {
   "cell_type": "code",
   "execution_count": 5,
   "metadata": {
    "collapsed": false
   },
   "outputs": [],
   "source": [
    "csvCreated(listOfRest,'RestaurantsTime')\n",
    "    "
   ]
  }
 ],
 "metadata": {
  "anaconda-cloud": {},
  "kernelspec": {
   "display_name": "Python [conda root]",
   "language": "python",
   "name": "conda-root-py"
  },
  "language_info": {
   "codemirror_mode": {
    "name": "ipython",
    "version": 3
   },
   "file_extension": ".py",
   "mimetype": "text/x-python",
   "name": "python",
   "nbconvert_exporter": "python",
   "pygments_lexer": "ipython3",
   "version": "3.5.2"
  }
 },
 "nbformat": 4,
 "nbformat_minor": 1
}
